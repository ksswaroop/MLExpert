{
 "cells": [
  {
   "cell_type": "markdown",
   "id": "4ab8b2b2-16ab-457e-8ed0-e58146041418",
   "metadata": {},
   "source": [
    "#### Data"
   ]
  },
  {
   "cell_type": "code",
   "execution_count": 2,
   "id": "fc882357-efd4-4d91-891b-9166c29f1474",
   "metadata": {
    "tags": []
   },
   "outputs": [],
   "source": [
    "exercises = [\n",
    "    {\n",
    "        \"name\": \"deadlift\",\n",
    "        \"muscle_groups\": [\"back\", \"hamstrings\"],\n",
    "        \"description\": \"Stand with feet hip-width apart, gripping the barbell with hands shoulder-width apart. Lift the barbell by straightening your legs and back.\",\n",
    "    },\n",
    "    {\n",
    "        \"name\": \"bench press\",\n",
    "        \"muscle_groups\": [\"chest\", \"triceps\", \"shoulders\"],\n",
    "        \"description\": \"Lie on a bench, feet flat on the ground. Push the barbell from chest level upwards until arms are fully extended.\",\n",
    "    },\n",
    "    {\n",
    "        \"name\": \"squat\",\n",
    "        \"muscle_groups\": [\"quadriceps\", \"glutes\", \"lower back\"],\n",
    "        \"description\": \"Stand with feet shoulder-width apart. Bend knees and hips to lower down as if sitting back into a chair, then return to standing.\",\n",
    "    },\n",
    "    {\n",
    "        \"name\": \"pull-up\",\n",
    "        \"muscle_groups\": [\"back\", \"biceps\"],\n",
    "        \"description\": \"Hang from a bar with hands slightly wider than shoulder-width. Pull body up until chin is above the bar, then lower back down.\",\n",
    "    },\n",
    "    {\n",
    "        \"name\": \"shoulder press\",\n",
    "        \"muscle_groups\": [\"shoulders\", \"triceps\"],\n",
    "        \"description\": \"Sit or stand with a dumbbell in each hand at shoulder height. Press the weights upwards until arms are extended overhead.\",\n",
    "    },\n",
    "    {\n",
    "        \"name\": \"barbell row\",\n",
    "        \"muscle_groups\": [\"back\", \"biceps\"],\n",
    "        \"description\": \"Bend forward at the waist, holding a barbell with hands shoulder-width apart. Pull the bar towards your lower chest.\",\n",
    "    },\n",
    "    {\n",
    "        \"name\": \"lunges\",\n",
    "        \"muscle_groups\": [\"quadriceps\", \"glutes\", \"hamstrings\"],\n",
    "        \"description\": \"Step forward with one leg and lower your body until both knees are bent at 90-degree angles. Push back up to the starting position.\",\n",
    "    },\n",
    "    {\n",
    "        \"name\": \"leg press\",\n",
    "        \"muscle_groups\": [\"quadriceps\", \"glutes\", \"hamstrings\"],\n",
    "        \"description\": \"Sit in a leg press machine with feet hip-width apart on the platform. Extend legs fully, then return to starting position.\",\n",
    "    },\n",
    "    {\n",
    "        \"name\": \"bicep curl\",\n",
    "        \"muscle_groups\": [\"biceps\"],\n",
    "        \"description\": \"Stand holding a dumbbell in each hand with arms extended. Curl the weights towards your shoulders, then lower them back down.\",\n",
    "    },\n",
    "    {\n",
    "        \"name\": \"tricep dip\",\n",
    "        \"muscle_groups\": [\"triceps\"],\n",
    "        \"description\": \"Using parallel bars or a bench, lower your body by bending your arms, then push back up to the starting position.\",\n",
    "    },\n",
    "    {\n",
    "        \"name\": \"leg curl\",\n",
    "        \"muscle_groups\": [\"hamstrings\"],\n",
    "        \"description\": \"Lie face down on a leg curl machine and curl the weight towards your buttocks, then lower it back down.\",\n",
    "    },\n",
    "    {\n",
    "        \"name\": \"calf raise\",\n",
    "        \"muscle_groups\": [\"calves\"],\n",
    "        \"description\": \"Stand on the edge of a step or platform. Rise onto your toes, then lower back down below the level of the step.\",\n",
    "    },\n",
    "    {\n",
    "        \"name\": \"lat pulldown\",\n",
    "        \"muscle_groups\": [\"back\", \"biceps\"],\n",
    "        \"description\": \"Sit at a lat pulldown machine, grab the bar wider than shoulder-width, and pull the bar down to your upper chest.\",\n",
    "    },\n",
    "    {\n",
    "        \"name\": \"pec deck\",\n",
    "        \"muscle_groups\": [\"chest\"],\n",
    "        \"description\": \"Sit in a pec deck machine with arms on the pads. Bring your arms together in front of you, then return to the starting position.\",\n",
    "    },\n",
    "    {\n",
    "        \"name\": \"incline bench press\",\n",
    "        \"muscle_groups\": [\"upper chest\", \"shoulders\", \"triceps\"],\n",
    "        \"description\": \"Lie on an incline bench. Push the barbell from chest level upwards until arms are fully extended.\",\n",
    "    },\n",
    "    {\n",
    "        \"name\": \"front squat\",\n",
    "        \"muscle_groups\": [\"quadriceps\", \"glutes\", \"upper back\"],\n",
    "        \"description\": \"Stand with feet shoulder-width apart, holding a barbell in front of your shoulders. Lower into a squat, then return to standing.\",\n",
    "    },\n",
    "    {\n",
    "        \"name\": \"Romanian deadlift\",\n",
    "        \"muscle_groups\": [\"hamstrings\", \"lower back\", \"glutes\"],\n",
    "        \"description\": \"Hold a barbell in front of your thighs. Bend at hips to lower the bar, keeping your back straight, then return to standing.\",\n",
    "    },\n",
    "    {\n",
    "        \"name\": \"t-bar row\",\n",
    "        \"muscle_groups\": [\"back\", \"biceps\"],\n",
    "        \"description\": \"Straddle a T-bar row machine and lift the bar by pulling it towards your chest while keeping your back straight.\",\n",
    "    },\n",
    "    {\n",
    "        \"name\": \"overhead tricep extension\",\n",
    "        \"muscle_groups\": [\"triceps\"],\n",
    "        \"description\": \"Hold a dumbbell with both hands above your head. Bend your elbows to lower the weight behind your head, then extend your arms back up.\",\n",
    "    },\n",
    "    {\n",
    "        \"name\": \"seated leg extension\",\n",
    "        \"muscle_groups\": [\"quadriceps\"],\n",
    "        \"description\": \"Sit on a leg extension machine with your legs under the pad. Extend your legs out in front of you, then return to the starting position.\",\n",
    "    },\n",
    "    {\n",
    "        \"name\": \"lying tricep extension\",\n",
    "        \"muscle_groups\": [\"triceps\"],\n",
    "        \"description\": \"Lie on a bench holding a barbell. Lower the bar to your forehead, then extend your arms to raise it back up.\",\n",
    "    },\n",
    "    {\n",
    "        \"name\": \"seated cable row\",\n",
    "        \"muscle_groups\": [\"back\", \"biceps\"],\n",
    "        \"description\": \"Sit at a cable row machine, grab the handle, and pull it towards your waist while keeping your back straight.\",\n",
    "    },\n",
    "    {\n",
    "        \"name\": \"hammer curl\",\n",
    "        \"muscle_groups\": [\"biceps\"],\n",
    "        \"description\": \"Stand holding dumbbells with palms facing your body. Curl the weights up, keeping your palms facing each other.\",\n",
    "    },\n",
    "    {\n",
    "        \"name\": \"reverse fly\",\n",
    "        \"muscle_groups\": [\"shoulders\", \"upper back\"],\n",
    "        \"description\": \"Bend forward at the waist, holding dumbbells. Raise your arms to the side until they are parallel with the floor.\",\n",
    "    },\n",
    "    {\n",
    "        \"name\": \"face pull\",\n",
    "        \"muscle_groups\": [\"shoulders\", \"upper back\"],\n",
    "        \"description\": \"Stand facing a cable machine with a rope attachment. Pull the rope towards your face while separating your hands.\",\n",
    "    },\n",
    "    {\n",
    "        \"name\": \"sumo deadlift\",\n",
    "        \"muscle_groups\": [\"glutes\", \"inner thighs\", \"lower back\"],\n",
    "        \"description\": \"Stand with feet wider than shoulder-width, holding a barbell. Keep your back straight and lift the barbell by straightening your legs.\",\n",
    "    },\n",
    "    {\n",
    "        \"name\": \"hack squat\",\n",
    "        \"muscle_groups\": [\"quadriceps\", \"glutes\", \"calves\"],\n",
    "        \"description\": \"Stand in a hack squat machine with your back against the pad. Lower down into a squat, then push back up to standing.\",\n",
    "    },\n",
    "    {\n",
    "        \"name\": \"hip thrust\",\n",
    "        \"muscle_groups\": [\"glutes\", \"hamstrings\"],\n",
    "        \"description\": \"Sit on the ground with a bench behind you. Place a barbell over your hips and thrust upward, pushing your hips towards the sky.\",\n",
    "    },\n",
    "    {\n",
    "        \"name\": \"farmers walk\",\n",
    "        \"muscle_groups\": [\"forearms\", \"shoulders\", \"traps\"],\n",
    "        \"description\": \"Hold a heavy weight in each hand. Walk a set distance or for a set time while keeping your posture upright.\",\n",
    "    },\n",
    "    {\n",
    "        \"name\": \"decline bench press\",\n",
    "        \"muscle_groups\": [\"lower chest\", \"triceps\"],\n",
    "        \"description\": \"Lie on a decline bench. Push the barbell from chest level upwards until arms are fully extended.\",\n",
    "    },\n",
    "]"
   ]
  },
  {
   "cell_type": "markdown",
   "id": "e9e8a2ec-bf69-4a1c-b3a6-8d6c9fdb9b62",
   "metadata": {},
   "source": [
    "### Retrieval\n",
    "\n",
    "The first step in building a RAG system is to retrieve relevant information from a database or corpus of documents. In our case, we'll build a simple retrieval system that uses the Jaccard similarity to find the most relevant exercises to a given query."
   ]
  },
  {
   "cell_type": "code",
   "execution_count": 3,
   "id": "47287cd6-9ed3-4662-a7ef-312b5871d44d",
   "metadata": {
    "tags": []
   },
   "outputs": [],
   "source": [
    "# Convert the entire text into words\n",
    "def text_to_words(text:str)->set[str]:\n",
    "    return set(text.lower().split())\n",
    "\n",
    "def jaccard_similarity(query,text)->float:\n",
    "    query_words=text_to_words(query)\n",
    "    text_words=text_to_words(text)\n",
    "    intersection=query_words.intersection(text_words)\n",
    "    union=query_words.union(text_words)\n",
    "    return len(intersection)/len(union)\n"
   ]
  },
  {
   "cell_type": "code",
   "execution_count": 4,
   "id": "15eff0b2-6156-49bd-b3d2-d2e428b97184",
   "metadata": {
    "tags": []
   },
   "outputs": [],
   "source": [
    "def retrieve(query,documents, k:int=3):\n",
    "    scores = [(jaccard_similarity(query,doc),doc) for doc in documents]\n",
    "    scores.sort(reverse=True , key=lambda x:x[0])\n",
    "    return scores[:k]"
   ]
  },
  {
   "cell_type": "code",
   "execution_count": 5,
   "id": "d1eaf4fe-caf9-483b-9891-02c811c20bfa",
   "metadata": {
    "tags": []
   },
   "outputs": [
    {
     "data": {
      "text/plain": [
       "['deadlift ( muscle groups: back, hamstrings ). Stand with feet hip-width apart, gripping the barbell with hands shoulder-width apart. Lift the barbell by straightening your legs and back.',\n",
       " 'bench press ( muscle groups: chest, triceps, shoulders ). Lie on a bench, feet flat on the ground. Push the barbell from chest level upwards until arms are fully extended.']"
      ]
     },
     "execution_count": 5,
     "metadata": {},
     "output_type": "execute_result"
    }
   ],
   "source": [
    "corpus = [\n",
    "    f'{e[\"name\"]} ( muscle groups: {\", \".join(e[\"muscle_groups\"])} ). {e[\"description\"]}'\n",
    "    for e in exercises\n",
    "]\n",
    "corpus[:2]"
   ]
  },
  {
   "cell_type": "code",
   "execution_count": 6,
   "id": "f2eca91c-52a6-401b-8dcc-58dd9cf23e9f",
   "metadata": {
    "tags": []
   },
   "outputs": [
    {
     "data": {
      "text/plain": [
       "[(0.1,\n",
       "  'Romanian deadlift ( muscle groups: hamstrings, lower back, glutes ). Hold a barbell in front of your thighs. Bend at hips to lower the bar, keeping your back straight, then return to standing.'),\n",
       " (0.06666666666666667,\n",
       "  'front squat ( muscle groups: quadriceps, glutes, upper back ). Stand with feet shoulder-width apart, holding a barbell in front of your shoulders. Lower into a squat, then return to standing.'),\n",
       " (0.06451612903225806,\n",
       "  'sumo deadlift ( muscle groups: glutes, inner thighs, lower back ). Stand with feet wider than shoulder-width, holding a barbell. Keep your back straight and lift the barbell by straightening your legs.'),\n",
       " (0.04,\n",
       "  'face pull ( muscle groups: shoulders, upper back ). Stand facing a cable machine with a rope attachment. Pull the rope towards your face while separating your hands.'),\n",
       " (0.038461538461538464,\n",
       "  'leg curl ( muscle groups: hamstrings ). Lie face down on a leg curl machine and curl the weight towards your buttocks, then lower it back down.')]"
      ]
     },
     "execution_count": 6,
     "metadata": {},
     "output_type": "execute_result"
    }
   ],
   "source": [
    "retrieve(\"barbell back glutes\", corpus, k=5)"
   ]
  },
  {
   "cell_type": "code",
   "execution_count": 7,
   "id": "26a423e9-c72f-4129-b95e-3806d26ac88c",
   "metadata": {
    "tags": []
   },
   "outputs": [
    {
     "name": "stdin",
     "output_type": "stream",
     "text": [
      "Enter HuggingFace token ········\n"
     ]
    }
   ],
   "source": [
    "import os\n",
    "from getpass import getpass\n",
    "os.environ[\"HF_TOKEN\"]=getpass(\"Enter HuggingFace token\")"
   ]
  },
  {
   "cell_type": "code",
   "execution_count": 8,
   "id": "0d4401b8-5a47-4fd7-9182-8c60770d7949",
   "metadata": {
    "tags": []
   },
   "outputs": [
    {
     "name": "stderr",
     "output_type": "stream",
     "text": [
      "2024-11-16 18:07:24.421014: E external/local_xla/xla/stream_executor/cuda/cuda_dnn.cc:9261] Unable to register cuDNN factory: Attempting to register factory for plugin cuDNN when one has already been registered\n",
      "2024-11-16 18:07:24.421087: E external/local_xla/xla/stream_executor/cuda/cuda_fft.cc:607] Unable to register cuFFT factory: Attempting to register factory for plugin cuFFT when one has already been registered\n",
      "2024-11-16 18:07:24.423320: E external/local_xla/xla/stream_executor/cuda/cuda_blas.cc:1515] Unable to register cuBLAS factory: Attempting to register factory for plugin cuBLAS when one has already been registered\n",
      "2024-11-16 18:07:24.432874: I tensorflow/core/platform/cpu_feature_guard.cc:182] This TensorFlow binary is optimized to use available CPU instructions in performance-critical operations.\n",
      "To enable the following instructions: AVX2 FMA, in other operations, rebuild TensorFlow with the appropriate compiler flags.\n",
      "2024-11-16 18:07:25.760027: W tensorflow/compiler/tf2tensorrt/utils/py_utils.cc:38] TF-TRT Warning: Could not find TensorRT\n"
     ]
    }
   ],
   "source": [
    "import torch\n",
    "from transformers import (\n",
    "    AutoModelForCausalLM,\n",
    "    AutoTokenizer,\n",
    "    GenerationConfig,\n",
    "    TextStreamer,\n",
    "    pipeline,AutoConfig\n",
    ")"
   ]
  },
  {
   "cell_type": "code",
   "execution_count": 9,
   "id": "ab226265-b4cb-4745-9a8f-ede7be120281",
   "metadata": {
    "tags": []
   },
   "outputs": [
    {
     "data": {
      "application/vnd.jupyter.widget-view+json": {
       "model_id": "ba505cf8e8974b8da430270c566f68a9",
       "version_major": 2,
       "version_minor": 0
      },
      "text/plain": [
       "Loading checkpoint shards:   0%|          | 0/8 [00:00<?, ?it/s]"
      ]
     },
     "metadata": {},
     "output_type": "display_data"
    }
   ],
   "source": [
    "MODEL_NAME = \"filipealmeida/Mistral-7B-Instruct-v0.1-sharded\"\n",
    " \n",
    "tokenizer = AutoTokenizer.from_pretrained(MODEL_NAME)\n",
    " \n",
    "model = AutoModelForCausalLM.from_pretrained(\n",
    "    MODEL_NAME, device_map=\"auto\", torch_dtype=torch.float16\n",
    ")"
   ]
  },
  {
   "cell_type": "code",
   "execution_count": 10,
   "id": "3c9d01a5-9504-43e1-a6bf-7d7305142395",
   "metadata": {},
   "outputs": [],
   "source": [
    "generation_config = GenerationConfig.from_pretrained(MODEL_NAME)\n",
    "generation_config.max_new_tokens = 256\n",
    "generation_config.repetition_penalty = 1.18\n",
    "generation_config.temperature = 0.0000001\n",
    "generation_config.do_sample = True"
   ]
  },
  {
   "cell_type": "code",
   "execution_count": 11,
   "id": "de7f4d85-5581-4403-98c3-6cc78f4ee15c",
   "metadata": {},
   "outputs": [],
   "source": [
    "streamer = TextStreamer(tokenizer, skip_prompt=True, skip_special_tokens=True)\n",
    " \n",
    "llm = pipeline(\n",
    "    \"text-generation\",\n",
    "    model=model,\n",
    "    tokenizer=tokenizer,\n",
    "    return_full_text=True,\n",
    "    generation_config=generation_config,\n",
    "    num_return_sequences=1,\n",
    "    eos_token_id=tokenizer.eos_token_id,\n",
    "    pad_token_id=tokenizer.eos_token_id,\n",
    "    streamer=streamer,\n",
    ")"
   ]
  },
  {
   "cell_type": "code",
   "execution_count": 12,
   "id": "95071c5b-912f-4abc-b213-63d06954419d",
   "metadata": {
    "tags": []
   },
   "outputs": [],
   "source": [
    "prompt_template = \"\"\"\n",
    "Write a workout plan for training legs - glutes, quadriceps and hamstrings\n",
    "Use the format:\n",
    " \n",
    "exercise - sets x reps\n",
    " \n",
    "Choose from the exercises:\n",
    " \n",
    "{exercises_text}\n",
    " \n",
    "Make sure that the number of exercises, sets, and reps follow best practices\n",
    "for a beginner\n",
    "\"\"\""
   ]
  },
  {
   "cell_type": "code",
   "execution_count": 13,
   "id": "84e235d0-b062-45da-8740-7309b500eff8",
   "metadata": {
    "tags": []
   },
   "outputs": [
    {
     "data": {
      "text/plain": [
       "[(0.08928571428571429,\n",
       "  'hip thrust ( muscle groups: glutes, hamstrings ). Sit on the ground with a bench behind you. Place a barbell over your hips and thrust upward, pushing your hips towards the sky.'),\n",
       " (0.08771929824561403,\n",
       "  'leg press ( muscle groups: quadriceps, glutes, hamstrings ). Sit in a leg press machine with feet hip-width apart on the platform. Extend legs fully, then return to starting position.'),\n",
       " (0.08620689655172414,\n",
       "  'seated leg extension ( muscle groups: quadriceps ). Sit on a leg extension machine with your legs under the pad. Extend your legs out in front of you, then return to the starting position.'),\n",
       " (0.07407407407407407,\n",
       "  'leg curl ( muscle groups: hamstrings ). Lie face down on a leg curl machine and curl the weight towards your buttocks, then lower it back down.'),\n",
       " (0.07272727272727272,\n",
       "  'deadlift ( muscle groups: back, hamstrings ). Stand with feet hip-width apart, gripping the barbell with hands shoulder-width apart. Lift the barbell by straightening your legs and back.'),\n",
       " (0.06666666666666667,\n",
       "  'sumo deadlift ( muscle groups: glutes, inner thighs, lower back ). Stand with feet wider than shoulder-width, holding a barbell. Keep your back straight and lift the barbell by straightening your legs.'),\n",
       " (0.06451612903225806,\n",
       "  'lunges ( muscle groups: quadriceps, glutes, hamstrings ). Step forward with one leg and lower your body until both knees are bent at 90-degree angles. Push back up to the starting position.'),\n",
       " (0.05357142857142857,\n",
       "  'lat pulldown ( muscle groups: back, biceps ). Sit at a lat pulldown machine, grab the bar wider than shoulder-width, and pull the bar down to your upper chest.'),\n",
       " (0.05357142857142857,\n",
       "  't-bar row ( muscle groups: back, biceps ). Straddle a T-bar row machine and lift the bar by pulling it towards your chest while keeping your back straight.'),\n",
       " (0.05263157894736842,\n",
       "  'seated cable row ( muscle groups: back, biceps ). Sit at a cable row machine, grab the handle, and pull it towards your waist while keeping your back straight.'),\n",
       " (0.05263157894736842,\n",
       "  'decline bench press ( muscle groups: lower chest, triceps ). Lie on a decline bench. Push the barbell from chest level upwards until arms are fully extended.'),\n",
       " (0.05172413793103448,\n",
       "  'calf raise ( muscle groups: calves ). Stand on the edge of a step or platform. Rise onto your toes, then lower back down below the level of the step.'),\n",
       " (0.05172413793103448,\n",
       "  'pec deck ( muscle groups: chest ). Sit in a pec deck machine with arms on the pads. Bring your arms together in front of you, then return to the starting position.'),\n",
       " (0.05084745762711865,\n",
       "  'bench press ( muscle groups: chest, triceps, shoulders ). Lie on a bench, feet flat on the ground. Push the barbell from chest level upwards until arms are fully extended.'),\n",
       " (0.05084745762711865,\n",
       "  'hack squat ( muscle groups: quadriceps, glutes, calves ). Stand in a hack squat machine with your back against the pad. Lower down into a squat, then push back up to standing.'),\n",
       " (0.05,\n",
       "  'squat ( muscle groups: quadriceps, glutes, lower back ). Stand with feet shoulder-width apart. Bend knees and hips to lower down as if sitting back into a chair, then return to standing.'),\n",
       " (0.05,\n",
       "  'front squat ( muscle groups: quadriceps, glutes, upper back ). Stand with feet shoulder-width apart, holding a barbell in front of your shoulders. Lower into a squat, then return to standing.'),\n",
       " (0.04918032786885246,\n",
       "  'pull-up ( muscle groups: back, biceps ). Hang from a bar with hands slightly wider than shoulder-width. Pull body up until chin is above the bar, then lower back down.'),\n",
       " (0.04918032786885246,\n",
       "  'Romanian deadlift ( muscle groups: hamstrings, lower back, glutes ). Hold a barbell in front of your thighs. Bend at hips to lower the bar, keeping your back straight, then return to standing.'),\n",
       " (0.03636363636363636,\n",
       "  'face pull ( muscle groups: shoulders, upper back ). Stand facing a cable machine with a rope attachment. Pull the rope towards your face while separating your hands.')]"
      ]
     },
     "execution_count": 13,
     "metadata": {},
     "output_type": "execute_result"
    }
   ],
   "source": [
    "found_exercises = retrieve(prompt_template, corpus, k=20)\n",
    "found_exercises"
   ]
  },
  {
   "cell_type": "code",
   "execution_count": 14,
   "id": "c16000bc-6317-4294-a1e2-74ba8787d530",
   "metadata": {
    "tags": []
   },
   "outputs": [
    {
     "data": {
      "text/plain": [
       "'\\nWrite a workout plan for training legs - glutes, quadriceps and hamstrings\\nUse the format:\\n \\nexercise - sets x reps\\n \\nChoose from the exercises:\\n \\nhip thrust ( muscle groups: glutes, hamstrings ). Sit on the ground with a bench behind you. Place a barbell over your hips and thrust upward, pushing your hips towards the sky.\\n\\nleg press ( muscle groups: quadriceps, glutes, hamstrings ). Sit in a leg press machine with feet hip-width apart on the platform. Extend legs fully, then return to starting position.\\n\\nseated leg extension ( muscle groups: quadriceps ). Sit on a leg extension machine with your legs under the pad. Extend your legs out in front of you, then return to the starting position.\\n\\nleg curl ( muscle groups: hamstrings ). Lie face down on a leg curl machine and curl the weight towards your buttocks, then lower it back down.\\n\\ndeadlift ( muscle groups: back, hamstrings ). Stand with feet hip-width apart, gripping the barbell with hands shoulder-width apart. Lift the barbell by straightening your legs and back.\\n\\nsumo deadlift ( muscle groups: glutes, inner thighs, lower back ). Stand with feet wider than shoulder-width, holding a barbell. Keep your back straight and lift the barbell by straightening your legs.\\n\\nlunges ( muscle groups: quadriceps, glutes, hamstrings ). Step forward with one leg and lower your body until both knees are bent at 90-degree angles. Push back up to the starting position.\\n\\nlat pulldown ( muscle groups: back, biceps ). Sit at a lat pulldown machine, grab the bar wider than shoulder-width, and pull the bar down to your upper chest.\\n\\nt-bar row ( muscle groups: back, biceps ). Straddle a T-bar row machine and lift the bar by pulling it towards your chest while keeping your back straight.\\n\\nseated cable row ( muscle groups: back, biceps ). Sit at a cable row machine, grab the handle, and pull it towards your waist while keeping your back straight.\\n\\ndecline bench press ( muscle groups: lower chest, triceps ). Lie on a decline bench. Push the barbell from chest level upwards until arms are fully extended.\\n\\ncalf raise ( muscle groups: calves ). Stand on the edge of a step or platform. Rise onto your toes, then lower back down below the level of the step.\\n\\npec deck ( muscle groups: chest ). Sit in a pec deck machine with arms on the pads. Bring your arms together in front of you, then return to the starting position.\\n\\nbench press ( muscle groups: chest, triceps, shoulders ). Lie on a bench, feet flat on the ground. Push the barbell from chest level upwards until arms are fully extended.\\n\\nhack squat ( muscle groups: quadriceps, glutes, calves ). Stand in a hack squat machine with your back against the pad. Lower down into a squat, then push back up to standing.\\n\\nsquat ( muscle groups: quadriceps, glutes, lower back ). Stand with feet shoulder-width apart. Bend knees and hips to lower down as if sitting back into a chair, then return to standing.\\n\\nfront squat ( muscle groups: quadriceps, glutes, upper back ). Stand with feet shoulder-width apart, holding a barbell in front of your shoulders. Lower into a squat, then return to standing.\\n\\npull-up ( muscle groups: back, biceps ). Hang from a bar with hands slightly wider than shoulder-width. Pull body up until chin is above the bar, then lower back down.\\n\\nRomanian deadlift ( muscle groups: hamstrings, lower back, glutes ). Hold a barbell in front of your thighs. Bend at hips to lower the bar, keeping your back straight, then return to standing.\\n\\nface pull ( muscle groups: shoulders, upper back ). Stand facing a cable machine with a rope attachment. Pull the rope towards your face while separating your hands.\\n \\nMake sure that the number of exercises, sets, and reps follow best practices\\nfor a beginner\\n'"
      ]
     },
     "execution_count": 14,
     "metadata": {},
     "output_type": "execute_result"
    }
   ],
   "source": [
    "exercises_text = \"\\n\\n\".join([e for _, e in found_exercises])\n",
    "prompt_text = prompt_template.format(exercises_text=exercises_text)\n",
    "prompt_text"
   ]
  },
  {
   "cell_type": "code",
   "execution_count": 15,
   "id": "f2cf4294-d5e4-4db0-b678-1bfdf701c8ad",
   "metadata": {
    "tags": []
   },
   "outputs": [
    {
     "name": "stdout",
     "output_type": "stream",
     "text": [
      "<s>[INST] \n",
      "You're an expert BodyBuilding Coach with 20+ years of experience with\n",
      "training all types of atheletes. You always follow foundational principles when\n",
      "designing workout plans. Each workout must have 4 exercises at maximum.\n",
      "\n",
      "Write a workout plan for training legs - glutes, quadriceps and hamstrings\n",
      "Use the format:\n",
      " \n",
      "exercise - sets x reps\n",
      " \n",
      "Choose from the exercises:\n",
      " \n",
      "hip thrust ( muscle groups: glutes, hamstrings ). Sit on the ground with a bench behind you. Place a barbell over your hips and thrust upward, pushing your hips towards the sky.\n",
      "\n",
      "leg press ( muscle groups: quadriceps, glutes, hamstrings ). Sit in a leg press machine with feet hip-width apart on the platform. Extend legs fully, then return to starting position.\n",
      "\n",
      "seated leg extension ( muscle groups: quadriceps ). Sit on a leg extension machine with your legs under the pad. Extend your legs out in front of you, then return to the starting position.\n",
      "\n",
      "leg curl ( muscle groups: hamstrings ). Lie face down on a leg curl machine and curl the weight towards your buttocks, then lower it back down.\n",
      "\n",
      "deadlift ( muscle groups: back, hamstrings ). Stand with feet hip-width apart, gripping the barbell with hands shoulder-width apart. Lift the barbell by straightening your legs and back.\n",
      "\n",
      "sumo deadlift ( muscle groups: glutes, inner thighs, lower back ). Stand with feet wider than shoulder-width, holding a barbell. Keep your back straight and lift the barbell by straightening your legs.\n",
      "\n",
      "lunges ( muscle groups: quadriceps, glutes, hamstrings ). Step forward with one leg and lower your body until both knees are bent at 90-degree angles. Push back up to the starting position.\n",
      "\n",
      "lat pulldown ( muscle groups: back, biceps ). Sit at a lat pulldown machine, grab the bar wider than shoulder-width, and pull the bar down to your upper chest.\n",
      "\n",
      "t-bar row ( muscle groups: back, biceps ). Straddle a T-bar row machine and lift the bar by pulling it towards your chest while keeping your back straight.\n",
      "\n",
      "seated cable row ( muscle groups: back, biceps ). Sit at a cable row machine, grab the handle, and pull it towards your waist while keeping your back straight.\n",
      "\n",
      "decline bench press ( muscle groups: lower chest, triceps ). Lie on a decline bench. Push the barbell from chest level upwards until arms are fully extended.\n",
      "\n",
      "calf raise ( muscle groups: calves ). Stand on the edge of a step or platform. Rise onto your toes, then lower back down below the level of the step.\n",
      "\n",
      "pec deck ( muscle groups: chest ). Sit in a pec deck machine with arms on the pads. Bring your arms together in front of you, then return to the starting position.\n",
      "\n",
      "bench press ( muscle groups: chest, triceps, shoulders ). Lie on a bench, feet flat on the ground. Push the barbell from chest level upwards until arms are fully extended.\n",
      "\n",
      "hack squat ( muscle groups: quadriceps, glutes, calves ). Stand in a hack squat machine with your back against the pad. Lower down into a squat, then push back up to standing.\n",
      "\n",
      "squat ( muscle groups: quadriceps, glutes, lower back ). Stand with feet shoulder-width apart. Bend knees and hips to lower down as if sitting back into a chair, then return to standing.\n",
      "\n",
      "front squat ( muscle groups: quadriceps, glutes, upper back ). Stand with feet shoulder-width apart, holding a barbell in front of your shoulders. Lower into a squat, then return to standing.\n",
      "\n",
      "pull-up ( muscle groups: back, biceps ). Hang from a bar with hands slightly wider than shoulder-width. Pull body up until chin is above the bar, then lower back down.\n",
      "\n",
      "Romanian deadlift ( muscle groups: hamstrings, lower back, glutes ). Hold a barbell in front of your thighs. Bend at hips to lower the bar, keeping your back straight, then return to standing.\n",
      "\n",
      "face pull ( muscle groups: shoulders, upper back ). Stand facing a cable machine with a rope attachment. Pull the rope towards your face while separating your hands.\n",
      " \n",
      "Make sure that the number of exercises, sets, and reps follow best practices\n",
      "for a beginner\n",
      " [/INST]\n"
     ]
    }
   ],
   "source": [
    "SYSTEM_PROMPT = \"\"\"\n",
    "You're an expert BodyBuilding Coach with 20+ years of experience with\n",
    "training all types of atheletes. You always follow foundational principles when\n",
    "designing workout plans. Each workout must have 4 exercises at maximum.\n",
    "\"\"\"\n",
    " \n",
    "prompt_text = SYSTEM_PROMPT + prompt_text\n",
    " \n",
    "messages = [\n",
    "    {\"role\": \"user\", \"content\": prompt_text},\n",
    "]\n",
    "prompt = tokenizer.apply_chat_template(\n",
    "    messages, tokenize=False, add_generation_prompt=True\n",
    ")\n",
    "print(prompt)"
   ]
  },
  {
   "cell_type": "code",
   "execution_count": 19,
   "id": "cfd313ff-af17-4333-b2eb-c7b728e41e99",
   "metadata": {
    "tags": []
   },
   "outputs": [
    {
     "name": "stdout",
     "output_type": "stream",
     "text": [
      "Here's a sample workout plan for training legs - glutes, quadriceps, and hamstrings:\n",
      "\n",
      "1. Seated Leg Extension - 3 sets of 8-10 reps\n",
      "2. Deadlift - 3 sets of 8-10 reps\n",
      "3. Romanian Deadlift - 3 sets of 8-10 reps\n",
      "4. Lat Pulldown - 3 sets of 8-10 reps\n",
      "\n",
      "This workout plan includes four exercises that target different parts of the legs, including the quadriceps, hamstrings, glutes, and calves. The recommended number of sets and reps follows best practices for beginners, aiming for 3 sets of 8-10 reps per exercise. It's important to note that this is just a sample workout plan, and individual needs may vary based on fitness level, goals, and personal preferences.\n"
     ]
    }
   ],
   "source": [
    "output=llm(prompt)"
   ]
  },
  {
   "cell_type": "code",
   "execution_count": 20,
   "id": "0fe0090f-231f-4847-b509-e64cb0c7c303",
   "metadata": {
    "tags": []
   },
   "outputs": [
    {
     "name": "stdout",
     "output_type": "stream",
     "text": [
      "[{'generated_text': \"<s>[INST] \\nYou're an expert BodyBuilding Coach with 20+ years of experience with\\ntraining all types of atheletes. You always follow foundational principles when\\ndesigning workout plans. Each workout must have 4 exercises at maximum.\\n\\nWrite a workout plan for training legs - glutes, quadriceps and hamstrings\\nUse the format:\\n \\nexercise - sets x reps\\n \\nChoose from the exercises:\\n \\nhip thrust ( muscle groups: glutes, hamstrings ). Sit on the ground with a bench behind you. Place a barbell over your hips and thrust upward, pushing your hips towards the sky.\\n\\nleg press ( muscle groups: quadriceps, glutes, hamstrings ). Sit in a leg press machine with feet hip-width apart on the platform. Extend legs fully, then return to starting position.\\n\\nseated leg extension ( muscle groups: quadriceps ). Sit on a leg extension machine with your legs under the pad. Extend your legs out in front of you, then return to the starting position.\\n\\nleg curl ( muscle groups: hamstrings ). Lie face down on a leg curl machine and curl the weight towards your buttocks, then lower it back down.\\n\\ndeadlift ( muscle groups: back, hamstrings ). Stand with feet hip-width apart, gripping the barbell with hands shoulder-width apart. Lift the barbell by straightening your legs and back.\\n\\nsumo deadlift ( muscle groups: glutes, inner thighs, lower back ). Stand with feet wider than shoulder-width, holding a barbell. Keep your back straight and lift the barbell by straightening your legs.\\n\\nlunges ( muscle groups: quadriceps, glutes, hamstrings ). Step forward with one leg and lower your body until both knees are bent at 90-degree angles. Push back up to the starting position.\\n\\nlat pulldown ( muscle groups: back, biceps ). Sit at a lat pulldown machine, grab the bar wider than shoulder-width, and pull the bar down to your upper chest.\\n\\nt-bar row ( muscle groups: back, biceps ). Straddle a T-bar row machine and lift the bar by pulling it towards your chest while keeping your back straight.\\n\\nseated cable row ( muscle groups: back, biceps ). Sit at a cable row machine, grab the handle, and pull it towards your waist while keeping your back straight.\\n\\ndecline bench press ( muscle groups: lower chest, triceps ). Lie on a decline bench. Push the barbell from chest level upwards until arms are fully extended.\\n\\ncalf raise ( muscle groups: calves ). Stand on the edge of a step or platform. Rise onto your toes, then lower back down below the level of the step.\\n\\npec deck ( muscle groups: chest ). Sit in a pec deck machine with arms on the pads. Bring your arms together in front of you, then return to the starting position.\\n\\nbench press ( muscle groups: chest, triceps, shoulders ). Lie on a bench, feet flat on the ground. Push the barbell from chest level upwards until arms are fully extended.\\n\\nhack squat ( muscle groups: quadriceps, glutes, calves ). Stand in a hack squat machine with your back against the pad. Lower down into a squat, then push back up to standing.\\n\\nsquat ( muscle groups: quadriceps, glutes, lower back ). Stand with feet shoulder-width apart. Bend knees and hips to lower down as if sitting back into a chair, then return to standing.\\n\\nfront squat ( muscle groups: quadriceps, glutes, upper back ). Stand with feet shoulder-width apart, holding a barbell in front of your shoulders. Lower into a squat, then return to standing.\\n\\npull-up ( muscle groups: back, biceps ). Hang from a bar with hands slightly wider than shoulder-width. Pull body up until chin is above the bar, then lower back down.\\n\\nRomanian deadlift ( muscle groups: hamstrings, lower back, glutes ). Hold a barbell in front of your thighs. Bend at hips to lower the bar, keeping your back straight, then return to standing.\\n\\nface pull ( muscle groups: shoulders, upper back ). Stand facing a cable machine with a rope attachment. Pull the rope towards your face while separating your hands.\\n \\nMake sure that the number of exercises, sets, and reps follow best practices\\nfor a beginner\\n [/INST] Here's a sample workout plan for training legs - glutes, quadriceps, and hamstrings:\\n\\n1. Seated Leg Extension - 3 sets of 8-10 reps\\n2. Deadlift - 3 sets of 8-10 reps\\n3. Romanian Deadlift - 3 sets of 8-10 reps\\n4. Lat Pulldown - 3 sets of 8-10 reps\\n\\nThis workout plan includes four exercises that target different parts of the legs, including the quadriceps, hamstrings, glutes, and calves. The recommended number of sets and reps follows best practices for beginners, aiming for 3 sets of 8-10 reps per exercise. It's important to note that this is just a sample workout plan, and individual needs may vary based on fitness level, goals, and personal preferences.\"}]\n"
     ]
    }
   ],
   "source": [
    "print(output)"
   ]
  },
  {
   "cell_type": "markdown",
   "id": "41d43408-3c9a-4a34-8af4-3b3202b46191",
   "metadata": {},
   "source": [
    "## Using Embeddings"
   ]
  },
  {
   "cell_type": "code",
   "execution_count": 21,
   "id": "e5031186-1756-4e4c-ac25-78817f2f9f3d",
   "metadata": {
    "tags": []
   },
   "outputs": [
    {
     "data": {
      "application/vnd.jupyter.widget-view+json": {
       "model_id": "87f37f4be8ae4e33bad16f3da8164ffd",
       "version_major": 2,
       "version_minor": 0
      },
      "text/plain": [
       ".gitattributes:   0%|          | 0.00/1.23k [00:00<?, ?B/s]"
      ]
     },
     "metadata": {},
     "output_type": "display_data"
    },
    {
     "data": {
      "application/vnd.jupyter.widget-view+json": {
       "model_id": "2c51ddd23a6745858eeaaed6366c43bf",
       "version_major": 2,
       "version_minor": 0
      },
      "text/plain": [
       "1_Pooling/config.json:   0%|          | 0.00/190 [00:00<?, ?B/s]"
      ]
     },
     "metadata": {},
     "output_type": "display_data"
    },
    {
     "data": {
      "application/vnd.jupyter.widget-view+json": {
       "model_id": "b3dd3ad1c279496a856432cae89a1e93",
       "version_major": 2,
       "version_minor": 0
      },
      "text/plain": [
       "README.md:   0%|          | 0.00/10.6k [00:00<?, ?B/s]"
      ]
     },
     "metadata": {},
     "output_type": "display_data"
    },
    {
     "data": {
      "application/vnd.jupyter.widget-view+json": {
       "model_id": "debf66dbc1f14e01bde9ce4a215efd84",
       "version_major": 2,
       "version_minor": 0
      },
      "text/plain": [
       "config.json:   0%|          | 0.00/571 [00:00<?, ?B/s]"
      ]
     },
     "metadata": {},
     "output_type": "display_data"
    },
    {
     "data": {
      "application/vnd.jupyter.widget-view+json": {
       "model_id": "03f64830a901455b90a13b0e2a4b2be2",
       "version_major": 2,
       "version_minor": 0
      },
      "text/plain": [
       "config_sentence_transformers.json:   0%|          | 0.00/116 [00:00<?, ?B/s]"
      ]
     },
     "metadata": {},
     "output_type": "display_data"
    },
    {
     "data": {
      "application/vnd.jupyter.widget-view+json": {
       "model_id": "ced0588b58324c31842d18fffb9fdb09",
       "version_major": 2,
       "version_minor": 0
      },
      "text/plain": [
       "data_config.json:   0%|          | 0.00/39.3k [00:00<?, ?B/s]"
      ]
     },
     "metadata": {},
     "output_type": "display_data"
    },
    {
     "data": {
      "application/vnd.jupyter.widget-view+json": {
       "model_id": "ec6f7e4c402a4baab2c1de5391a9d094",
       "version_major": 2,
       "version_minor": 0
      },
      "text/plain": [
       "model.safetensors:   0%|          | 0.00/438M [00:00<?, ?B/s]"
      ]
     },
     "metadata": {},
     "output_type": "display_data"
    },
    {
     "data": {
      "application/vnd.jupyter.widget-view+json": {
       "model_id": "7f82b9ffff5f48e68928c92879506ad0",
       "version_major": 2,
       "version_minor": 0
      },
      "text/plain": [
       "model.onnx:   0%|          | 0.00/436M [00:00<?, ?B/s]"
      ]
     },
     "metadata": {},
     "output_type": "display_data"
    },
    {
     "data": {
      "application/vnd.jupyter.widget-view+json": {
       "model_id": "f5630e75f8264aaf8c781d69f4ee2e47",
       "version_major": 2,
       "version_minor": 0
      },
      "text/plain": [
       "model_O1.onnx:   0%|          | 0.00/436M [00:00<?, ?B/s]"
      ]
     },
     "metadata": {},
     "output_type": "display_data"
    },
    {
     "data": {
      "application/vnd.jupyter.widget-view+json": {
       "model_id": "80b57f48d1844c899adb51888121fbac",
       "version_major": 2,
       "version_minor": 0
      },
      "text/plain": [
       "model_O2.onnx:   0%|          | 0.00/436M [00:00<?, ?B/s]"
      ]
     },
     "metadata": {},
     "output_type": "display_data"
    },
    {
     "data": {
      "application/vnd.jupyter.widget-view+json": {
       "model_id": "cab2e743c16a4610b6cebc22010c5a87",
       "version_major": 2,
       "version_minor": 0
      },
      "text/plain": [
       "model_O3.onnx:   0%|          | 0.00/436M [00:00<?, ?B/s]"
      ]
     },
     "metadata": {},
     "output_type": "display_data"
    },
    {
     "data": {
      "application/vnd.jupyter.widget-view+json": {
       "model_id": "c64d01000b47465484ebbaffacb6cff9",
       "version_major": 2,
       "version_minor": 0
      },
      "text/plain": [
       "model_O4.onnx:   0%|          | 0.00/218M [00:00<?, ?B/s]"
      ]
     },
     "metadata": {},
     "output_type": "display_data"
    },
    {
     "data": {
      "application/vnd.jupyter.widget-view+json": {
       "model_id": "fdec1e8b0718408aaa6cf4ed627cf9f1",
       "version_major": 2,
       "version_minor": 0
      },
      "text/plain": [
       "model_qint8_arm64.onnx:   0%|          | 0.00/110M [00:00<?, ?B/s]"
      ]
     },
     "metadata": {},
     "output_type": "display_data"
    },
    {
     "data": {
      "application/vnd.jupyter.widget-view+json": {
       "model_id": "764c7b94a8834c79ab10dee51a0b12b8",
       "version_major": 2,
       "version_minor": 0
      },
      "text/plain": [
       "model_qint8_avx512.onnx:   0%|          | 0.00/110M [00:00<?, ?B/s]"
      ]
     },
     "metadata": {},
     "output_type": "display_data"
    },
    {
     "data": {
      "application/vnd.jupyter.widget-view+json": {
       "model_id": "3a163420802e4ee6bd5926818c3a6df7",
       "version_major": 2,
       "version_minor": 0
      },
      "text/plain": [
       "model_qint8_avx512_vnni.onnx:   0%|          | 0.00/110M [00:00<?, ?B/s]"
      ]
     },
     "metadata": {},
     "output_type": "display_data"
    },
    {
     "data": {
      "application/vnd.jupyter.widget-view+json": {
       "model_id": "5c2c428cb99544b7b76490c980aa0d75",
       "version_major": 2,
       "version_minor": 0
      },
      "text/plain": [
       "model_quint8_avx2.onnx:   0%|          | 0.00/110M [00:00<?, ?B/s]"
      ]
     },
     "metadata": {},
     "output_type": "display_data"
    },
    {
     "data": {
      "application/vnd.jupyter.widget-view+json": {
       "model_id": "a38df12871fd4a5494549e9dae733711",
       "version_major": 2,
       "version_minor": 0
      },
      "text/plain": [
       "openvino_model.bin:   0%|          | 0.00/436M [00:00<?, ?B/s]"
      ]
     },
     "metadata": {},
     "output_type": "display_data"
    },
    {
     "data": {
      "application/vnd.jupyter.widget-view+json": {
       "model_id": "02ea03324986482ca84f82ffb5003eb6",
       "version_major": 2,
       "version_minor": 0
      },
      "text/plain": [
       "openvino/openvino_model.xml:   0%|          | 0.00/433k [00:00<?, ?B/s]"
      ]
     },
     "metadata": {},
     "output_type": "display_data"
    },
    {
     "data": {
      "application/vnd.jupyter.widget-view+json": {
       "model_id": "809cb07ba26545cea957bb2e5c30c5c0",
       "version_major": 2,
       "version_minor": 0
      },
      "text/plain": [
       "openvino_model_qint8_quantized.bin:   0%|          | 0.00/110M [00:00<?, ?B/s]"
      ]
     },
     "metadata": {},
     "output_type": "display_data"
    },
    {
     "data": {
      "application/vnd.jupyter.widget-view+json": {
       "model_id": "93b907f372884493991e8499c12e321f",
       "version_major": 2,
       "version_minor": 0
      },
      "text/plain": [
       "(…)nvino/openvino_model_qint8_quantized.xml:   0%|          | 0.00/742k [00:00<?, ?B/s]"
      ]
     },
     "metadata": {},
     "output_type": "display_data"
    },
    {
     "data": {
      "application/vnd.jupyter.widget-view+json": {
       "model_id": "c8283332b7ef407b97026e55e23f5a34",
       "version_major": 2,
       "version_minor": 0
      },
      "text/plain": [
       "pytorch_model.bin:   0%|          | 0.00/438M [00:00<?, ?B/s]"
      ]
     },
     "metadata": {},
     "output_type": "display_data"
    },
    {
     "data": {
      "application/vnd.jupyter.widget-view+json": {
       "model_id": "b6d3cedd680d4148aff2c191796387e5",
       "version_major": 2,
       "version_minor": 0
      },
      "text/plain": [
       "sentence_bert_config.json:   0%|          | 0.00/53.0 [00:00<?, ?B/s]"
      ]
     },
     "metadata": {},
     "output_type": "display_data"
    },
    {
     "data": {
      "application/vnd.jupyter.widget-view+json": {
       "model_id": "af35fe083b394d709118913f6bfb80fb",
       "version_major": 2,
       "version_minor": 0
      },
      "text/plain": [
       "special_tokens_map.json:   0%|          | 0.00/239 [00:00<?, ?B/s]"
      ]
     },
     "metadata": {},
     "output_type": "display_data"
    },
    {
     "data": {
      "application/vnd.jupyter.widget-view+json": {
       "model_id": "027e7c7ce43a46dd8edc2cf2958c4815",
       "version_major": 2,
       "version_minor": 0
      },
      "text/plain": [
       "tokenizer.json:   0%|          | 0.00/466k [00:00<?, ?B/s]"
      ]
     },
     "metadata": {},
     "output_type": "display_data"
    },
    {
     "data": {
      "application/vnd.jupyter.widget-view+json": {
       "model_id": "8024c651e9c64bca8479680838945c42",
       "version_major": 2,
       "version_minor": 0
      },
      "text/plain": [
       "tokenizer_config.json:   0%|          | 0.00/363 [00:00<?, ?B/s]"
      ]
     },
     "metadata": {},
     "output_type": "display_data"
    },
    {
     "data": {
      "application/vnd.jupyter.widget-view+json": {
       "model_id": "4072bc2147bd415d8959815963cfd41f",
       "version_major": 2,
       "version_minor": 0
      },
      "text/plain": [
       "train_script.py:   0%|          | 0.00/13.1k [00:00<?, ?B/s]"
      ]
     },
     "metadata": {},
     "output_type": "display_data"
    },
    {
     "data": {
      "application/vnd.jupyter.widget-view+json": {
       "model_id": "70c38c4f978743b980fe483ebdb3e8e2",
       "version_major": 2,
       "version_minor": 0
      },
      "text/plain": [
       "vocab.txt:   0%|          | 0.00/232k [00:00<?, ?B/s]"
      ]
     },
     "metadata": {},
     "output_type": "display_data"
    },
    {
     "data": {
      "application/vnd.jupyter.widget-view+json": {
       "model_id": "820c58ba49cc4a2cade1ffafea6de22f",
       "version_major": 2,
       "version_minor": 0
      },
      "text/plain": [
       "modules.json:   0%|          | 0.00/349 [00:00<?, ?B/s]"
      ]
     },
     "metadata": {},
     "output_type": "display_data"
    }
   ],
   "source": [
    "from sentence_transformers import SentenceTransformer\n",
    "embedding_model=SentenceTransformer('sentence-transformers/all-mpnet-base-v2')"
   ]
  },
  {
   "cell_type": "code",
   "execution_count": 22,
   "id": "21695699-9165-4111-9a5b-d0dc8b63d4e6",
   "metadata": {
    "tags": []
   },
   "outputs": [
    {
     "data": {
      "text/plain": [
       "(1, 768)"
      ]
     },
     "execution_count": 22,
     "metadata": {},
     "output_type": "execute_result"
    }
   ],
   "source": [
    "prompt_template = \"\"\"\n",
    "Write a workout plan for training legs - glutes, quadriceps and hamstrings\n",
    "Use the format:\n",
    " \n",
    "exercise - sets x reps\n",
    " \n",
    "Choose from the exercises:\n",
    " \n",
    "{exercises_text}\n",
    " \n",
    "Make sure that the number of exercises, sets, and reps follow best practices\n",
    "for a beginner\n",
    "\"\"\"\n",
    "\n",
    "prompt=[prompt_template]\n",
    "prompt_embeddings=embedding_model.encode(prompt,normalize_embeddings=True)\n",
    "prompt_embeddings.shape"
   ]
  },
  {
   "cell_type": "code",
   "execution_count": 24,
   "id": "e56bb783-50ae-497b-9203-a9fa65f56369",
   "metadata": {
    "tags": []
   },
   "outputs": [
    {
     "data": {
      "text/plain": [
       "(30, 768)"
      ]
     },
     "execution_count": 24,
     "metadata": {},
     "output_type": "execute_result"
    }
   ],
   "source": [
    "corpus_embeddings=embedding_model.encode(corpus,normalize_embeddings=True)\n",
    "corpus_embeddings.shape"
   ]
  },
  {
   "cell_type": "code",
   "execution_count": 29,
   "id": "dcd8d3ae-8598-4553-ac54-0ffd30703cd4",
   "metadata": {
    "tags": []
   },
   "outputs": [
    {
     "data": {
      "text/plain": [
       "30"
      ]
     },
     "execution_count": 29,
     "metadata": {},
     "output_type": "execute_result"
    }
   ],
   "source": [
    "len(corpus_embeddings)"
   ]
  },
  {
   "cell_type": "code",
   "execution_count": 26,
   "id": "e9e0f488-0cb4-4cac-944a-0488bb07617d",
   "metadata": {
    "tags": []
   },
   "outputs": [
    {
     "data": {
      "text/plain": [
       "array([[0.45286614, 0.4468216 , 0.48531902, 0.37072468, 0.36949354,\n",
       "        0.4218395 , 0.5262726 , 0.57552594, 0.33942676, 0.33700806,\n",
       "        0.4955559 , 0.46052256, 0.317796  , 0.37072712, 0.3878978 ,\n",
       "        0.49576867, 0.45310616, 0.34457272, 0.36038193, 0.4969731 ,\n",
       "        0.3994022 , 0.37164652, 0.26542145, 0.37190986, 0.31079102,\n",
       "        0.40693897, 0.44704577, 0.4079376 , 0.29972327, 0.38337615]],\n",
       "      dtype=float32)"
      ]
     },
     "execution_count": 26,
     "metadata": {},
     "output_type": "execute_result"
    }
   ],
   "source": [
    "similarities=prompt_embeddings@corpus_embeddings.T\n",
    "similarities"
   ]
  },
  {
   "cell_type": "code",
   "execution_count": 33,
   "id": "98356dc5-99be-48ea-a91b-d3150ac8d07d",
   "metadata": {
    "tags": []
   },
   "outputs": [
    {
     "name": "stdout",
     "output_type": "stream",
     "text": [
      "[0.45286614 0.4468216  0.48531902 0.37072468 0.36949354 0.4218395\n",
      " 0.5262726  0.57552594 0.33942676 0.33700806 0.4955559  0.46052256\n",
      " 0.317796   0.37072712 0.3878978  0.49576867 0.45310616 0.34457272\n",
      " 0.36038193 0.4969731  0.3994022  0.37164652 0.26542145 0.37190986\n",
      " 0.31079102 0.40693897 0.44704577 0.4079376  0.29972327 0.38337615]\n"
     ]
    }
   ],
   "source": [
    "scores=similarities[0]\n",
    "print(scores)"
   ]
  },
  {
   "cell_type": "code",
   "execution_count": 35,
   "id": "c2665974-a5d5-4ca8-a478-3dccfd6f4aaf",
   "metadata": {
    "scrolled": true,
    "tags": []
   },
   "outputs": [
    {
     "data": {
      "text/plain": [
       "[(0.57552594,\n",
       "  array([-4.65455949e-02, -6.48447685e-03, -1.62475265e-03,  7.72116845e-03,\n",
       "         -5.39114028e-02,  1.71380229e-02,  1.26948226e-02,  6.38560578e-02,\n",
       "          1.84322242e-02,  1.16645955e-02,  8.64432380e-03, -3.44382450e-02,\n",
       "          5.68493344e-02, -2.62478497e-02,  4.98309024e-02, -3.36916670e-02,\n",
       "          9.64757893e-03,  3.25512961e-02, -2.12582592e-02, -5.91091402e-02,\n",
       "         -1.72922425e-02,  1.46665471e-02,  3.50574916e-03, -6.36832565e-02,\n",
       "         -2.67094020e-02, -5.85123785e-02, -2.67936960e-02, -1.51820388e-03,\n",
       "         -1.78563837e-02, -2.94424524e-03,  1.32912006e-02, -6.54268777e-04,\n",
       "          5.46067767e-02, -3.10359243e-02,  1.67350470e-06, -1.32127143e-02,\n",
       "         -3.23525667e-02, -1.46805216e-02, -1.95110068e-02,  1.27461925e-03,\n",
       "          4.44281809e-02, -8.91582854e-03,  2.17850190e-02,  3.25545706e-02,\n",
       "          3.35581526e-02, -4.83511575e-02,  3.81799191e-02,  4.69228290e-02,\n",
       "          6.07291097e-03,  6.01450875e-02, -7.25380704e-03,  6.86761923e-03,\n",
       "         -1.29235685e-02, -1.75339431e-02,  5.73326312e-02, -4.32606824e-02,\n",
       "         -2.31505968e-02, -1.05034048e-02,  3.38528417e-02,  6.10153042e-02,\n",
       "         -2.52890456e-02, -3.50217447e-02, -2.01756395e-02,  4.75938013e-03,\n",
       "         -7.53648728e-02,  2.17962060e-02, -8.83449614e-03, -5.61522841e-02,\n",
       "          3.83562706e-02,  1.31810494e-02,  8.49498436e-03,  9.77288093e-03,\n",
       "         -7.43395230e-03,  2.75297463e-02,  3.81321497e-02,  4.50725369e-02,\n",
       "          2.54523642e-02, -7.08338758e-03,  5.78255281e-02,  8.63168016e-03,\n",
       "         -4.21312824e-02,  1.79775972e-02,  2.14551184e-02,  1.61512103e-02,\n",
       "          1.50648635e-02, -3.16082016e-02,  7.47773750e-03,  3.42136691e-03,\n",
       "          1.59159265e-02,  1.55830691e-02,  4.28765528e-02,  3.57590392e-02,\n",
       "         -1.29767573e-02,  3.92501652e-02, -1.75350010e-02,  6.12321543e-03,\n",
       "         -4.02095243e-02, -2.88305730e-02,  1.83584541e-02, -1.47817302e-02,\n",
       "          8.27043038e-03, -2.62162206e-03,  8.85627046e-02,  8.71142000e-03,\n",
       "         -5.32231107e-02,  2.63619889e-03, -1.77631620e-02, -5.25176874e-04,\n",
       "         -2.80344095e-02,  4.72615473e-02, -6.80640191e-02, -3.96742777e-04,\n",
       "         -6.63248226e-02,  1.59099102e-02, -1.06867356e-02, -5.32601960e-02,\n",
       "         -8.88521969e-02, -1.91393550e-02,  4.10282761e-02, -6.15324713e-02,\n",
       "         -4.10622843e-02,  4.63340618e-02, -1.04557322e-02, -4.07674797e-02,\n",
       "          2.04777960e-02,  1.27134100e-02, -2.83066500e-02,  2.79453099e-02,\n",
       "          1.37229180e-02, -6.34679049e-02, -5.60096800e-02,  4.48797122e-02,\n",
       "         -1.05281724e-02,  2.69695707e-02, -1.97629035e-02, -1.02241457e-01,\n",
       "          2.93715578e-03,  3.12794708e-02,  3.20812464e-02,  3.58722098e-02,\n",
       "         -1.09456619e-02, -3.73182707e-02, -2.49104109e-02,  5.63229527e-03,\n",
       "          5.06280549e-02, -5.35639860e-02, -3.38712172e-03,  1.18318433e-02,\n",
       "         -5.90141267e-02, -1.46126319e-02, -4.07392457e-02,  4.41538878e-02,\n",
       "          1.95048228e-02,  3.83104943e-02,  1.54396323e-02,  3.72657878e-03,\n",
       "         -2.28645001e-02,  6.47661183e-03,  1.17302788e-02,  3.38848345e-02,\n",
       "          2.33947206e-02, -1.68132335e-02,  5.58655662e-03, -1.70991533e-02,\n",
       "          1.08196130e-02, -6.95533603e-02, -4.38690707e-02, -1.26480730e-03,\n",
       "         -6.57526636e-03, -5.28789312e-02,  1.64529011e-02, -4.00842614e-02,\n",
       "         -1.99972792e-03,  8.01116526e-02, -3.16947140e-02,  5.48674017e-02,\n",
       "          3.90203670e-02,  5.26462495e-02, -7.88928047e-02, -8.23122337e-02,\n",
       "         -1.42408221e-03, -1.29906172e-02, -4.68148366e-02, -4.30542380e-02,\n",
       "          1.98299699e-02,  4.35140096e-02, -5.02450531e-03,  4.12649587e-02,\n",
       "         -8.21615383e-02,  4.88695465e-02,  9.72252991e-03, -3.70261557e-02,\n",
       "          4.50186618e-02, -2.49840897e-02,  6.85669631e-02,  4.72347699e-02,\n",
       "          2.30412632e-02,  8.15754756e-02,  1.50038702e-02,  1.03726685e-02,\n",
       "          2.70450022e-02,  4.30391282e-02, -5.43647967e-02, -4.03734259e-02,\n",
       "         -2.85899034e-03, -7.32471272e-02,  1.17753968e-02,  2.94391606e-02,\n",
       "         -6.44372217e-03,  2.62664147e-02, -5.36984354e-02,  5.49236834e-02,\n",
       "         -6.28895685e-02,  2.74755806e-02, -5.77725563e-03,  4.98643816e-02,\n",
       "          6.94548525e-03, -3.34778018e-02,  2.82759722e-02, -2.66103167e-02,\n",
       "         -9.58376843e-03, -7.13722631e-02,  3.32115069e-02, -1.03591299e-02,\n",
       "         -9.90714952e-02,  7.96428397e-02,  3.30946930e-02, -7.01743132e-03,\n",
       "          6.01250725e-03, -1.41190626e-02,  4.70009111e-02,  1.08116278e-02,\n",
       "         -2.50009354e-02, -1.25334673e-02, -5.59104234e-02,  2.51032710e-02,\n",
       "          4.79383022e-02,  1.69182979e-02, -2.01166375e-03,  3.19459178e-02,\n",
       "         -2.32266076e-02,  7.21972249e-03,  3.61366831e-02, -1.73943583e-02,\n",
       "          3.46482433e-02, -8.90691020e-03,  1.40522718e-02, -2.11494369e-03,\n",
       "         -2.83883046e-02,  4.60399091e-02, -5.25640436e-02,  7.45999487e-03,\n",
       "          4.09356505e-02,  2.66106259e-02, -1.70570388e-02,  5.08394055e-02,\n",
       "          7.81497434e-02,  1.60954446e-02,  1.74577273e-02,  1.11764320e-03,\n",
       "          6.72987700e-02, -6.85460726e-03,  8.32220656e-04,  6.43105134e-02,\n",
       "         -4.38291160e-03,  4.09903377e-02,  1.72260180e-02, -3.90148610e-02,\n",
       "          2.08108947e-02,  7.73166539e-04,  3.38669121e-02, -6.31816685e-03,\n",
       "          3.66067654e-03, -1.38858240e-02, -5.94151318e-02, -2.96907332e-02,\n",
       "          3.91866937e-02, -1.95702203e-02, -1.53060360e-02, -2.06094459e-02,\n",
       "         -8.69087595e-03,  8.52290615e-02, -3.47168967e-02,  4.09108289e-02,\n",
       "          6.07352294e-02, -3.47678103e-02,  3.09903827e-02,  1.64510310e-02,\n",
       "         -1.90254655e-02,  5.60158864e-02,  6.12603780e-03,  3.54896784e-02,\n",
       "          2.78170919e-03, -2.41659898e-02,  4.35178820e-03,  3.89043987e-02,\n",
       "         -6.13158159e-02, -9.49554145e-03,  5.87938279e-02, -8.93531367e-02,\n",
       "          7.66949146e-04,  6.55381829e-02, -1.14057260e-03,  2.60451101e-02,\n",
       "         -6.92275390e-02, -3.41461301e-02, -1.26145016e-02, -6.28747866e-02,\n",
       "          3.84804793e-02, -3.05448696e-02,  4.03326005e-02, -1.91876024e-03,\n",
       "         -1.83098130e-02, -6.10332079e-02,  2.60424707e-03, -4.86052819e-02,\n",
       "          5.15024140e-02, -3.58050838e-02, -1.11087887e-02, -4.22278270e-02,\n",
       "         -2.05162615e-02,  8.31171405e-03,  1.82959735e-02, -1.15018745e-03,\n",
       "         -2.34900434e-02, -3.14119784e-03,  2.91605536e-02,  1.58629268e-02,\n",
       "          4.43795649e-03, -1.37266908e-02,  2.44062170e-02, -7.91925564e-02,\n",
       "          5.14302112e-04,  7.15802312e-02,  7.89043978e-02,  1.48070781e-02,\n",
       "          8.87603033e-03, -2.44494900e-02,  5.86865023e-02,  6.25930130e-02,\n",
       "         -1.44842388e-02, -6.67214468e-02, -4.04146500e-02,  5.02989255e-03,\n",
       "          3.96680459e-02, -3.64552066e-02, -4.42281924e-03,  2.21842602e-02,\n",
       "         -2.75816750e-02, -5.18206917e-02,  1.59966312e-02,  4.33546416e-02,\n",
       "         -3.86868007e-02,  4.63081449e-02, -1.88139267e-02, -1.82922408e-02,\n",
       "         -3.36818071e-03,  2.32902169e-02,  4.48940787e-03, -1.39719574e-02,\n",
       "         -1.90765958e-03,  3.45819294e-02, -5.77813154e-03,  1.56896317e-03,\n",
       "         -6.27611950e-03, -1.16829639e-02, -3.02059874e-02, -2.44146585e-02,\n",
       "         -1.99285634e-02,  9.88996588e-04,  9.87974647e-03,  3.08041964e-02,\n",
       "         -3.79701033e-02,  1.95158850e-02,  8.93963687e-03, -2.11074520e-02,\n",
       "          2.42045429e-02,  3.07227727e-02,  2.40630023e-02,  1.99616216e-02,\n",
       "         -2.30137035e-02, -3.74475345e-02, -1.99450962e-02,  2.20495630e-02,\n",
       "         -2.57541481e-02,  1.07048275e-02,  2.02345662e-02,  7.90384784e-03,\n",
       "         -1.00860655e-01, -5.23589784e-03,  2.91649383e-02, -7.82486498e-02,\n",
       "         -4.66461740e-02, -1.38853062e-02,  4.50087376e-02,  1.89539474e-02,\n",
       "         -1.04836784e-02,  4.07247990e-03, -5.24424426e-02,  1.80396754e-02,\n",
       "         -3.81863751e-02, -4.93844785e-03,  9.90959816e-04, -4.77102622e-02,\n",
       "         -9.70142242e-03,  1.32577736e-02,  9.63503122e-03, -2.54201200e-02,\n",
       "          3.75547372e-02, -1.97110213e-02,  9.15466920e-02, -4.23219875e-02,\n",
       "         -2.37529376e-03, -3.00504379e-02,  3.72622423e-02,  4.68979701e-02,\n",
       "          3.97934690e-02,  3.99605669e-02,  3.74363549e-02, -7.19257519e-02,\n",
       "          7.38541596e-03,  2.54886337e-02,  2.15242486e-02,  3.27906981e-02,\n",
       "          2.41316352e-02,  3.27236019e-02,  4.94233221e-02, -5.73691539e-03,\n",
       "         -2.59946305e-02, -6.00360916e-04,  3.86990197e-02, -5.02422545e-03,\n",
       "         -2.96506099e-02,  7.41351470e-02, -3.53126205e-03,  3.40035222e-02,\n",
       "         -1.53330257e-02, -7.85977542e-02,  6.15601465e-02,  1.61682861e-03,\n",
       "         -2.98443642e-02, -7.31975446e-03, -2.56789345e-02, -1.77838113e-02,\n",
       "          8.74313340e-02,  4.01310669e-03,  2.06149127e-02,  1.57970190e-02,\n",
       "         -2.77498830e-02,  5.71808405e-03, -1.77274905e-02,  6.03959374e-02,\n",
       "         -5.04686534e-02, -2.02195998e-03,  7.09048659e-02,  1.16814133e-02,\n",
       "         -1.98850222e-02, -1.04312291e-02,  3.00737675e-02, -6.32777717e-03,\n",
       "         -2.43901983e-02, -5.21318871e-04, -1.74375065e-02, -4.38614190e-02,\n",
       "          9.65442858e-04, -7.22833490e-03, -4.52183262e-02, -4.56303284e-02,\n",
       "          2.61266567e-02,  7.75915664e-03, -6.01773076e-02,  1.17781386e-02,\n",
       "          5.91965169e-02, -1.03099067e-02,  5.00593781e-02,  4.66298386e-02,\n",
       "         -3.77155319e-02, -9.41695124e-02, -7.18903765e-02, -1.15174875e-02,\n",
       "         -6.60221726e-02, -4.48851064e-02, -3.98263745e-02, -6.08349554e-02,\n",
       "          1.62609983e-02,  1.31277591e-02,  6.04578154e-03,  2.12201122e-02,\n",
       "         -1.33938584e-02,  4.01441269e-02,  3.64095792e-02, -5.70579432e-02,\n",
       "          5.51581047e-02, -2.40528490e-02,  1.50554143e-02,  6.14760257e-02,\n",
       "         -4.03440967e-02,  2.22783778e-02, -2.52995621e-02, -1.80356130e-02,\n",
       "          5.35623170e-03,  2.82949414e-02,  3.71253192e-02,  2.45323274e-02,\n",
       "         -6.41695932e-02, -3.05377208e-02, -2.67628394e-02, -1.34339277e-02,\n",
       "          4.14503142e-02, -2.47135684e-02, -2.68868450e-02,  2.56012194e-02,\n",
       "          6.05292693e-02,  4.51803729e-02,  1.26791475e-02, -1.50031107e-03,\n",
       "         -1.19534479e-02, -1.48416525e-02, -1.11710085e-02,  1.16254780e-02,\n",
       "         -6.38488308e-02, -3.64395715e-02, -2.52135040e-04, -2.92954631e-02,\n",
       "          1.45500414e-02, -7.37211332e-02,  9.90347564e-03,  2.03225575e-02,\n",
       "          3.36154997e-02, -8.09018500e-03, -4.18812186e-02,  9.14399605e-03,\n",
       "          1.14092240e-02, -3.70907448e-02, -3.11366413e-02,  1.36707788e-02,\n",
       "         -5.64765418e-04, -3.34801190e-02,  3.22651081e-02, -2.44271234e-02,\n",
       "         -5.62865240e-03, -5.21420874e-02, -3.92533056e-02,  4.30745147e-02,\n",
       "          5.27845183e-03,  5.46752624e-02,  1.86586957e-02, -1.64454915e-02,\n",
       "         -2.27052122e-02, -1.08138262e-03, -3.71243842e-02,  2.72141472e-02,\n",
       "          2.18834113e-02, -1.10471863e-02, -1.43157644e-02, -5.03381983e-33,\n",
       "          3.15805268e-03,  3.63571383e-02, -1.19195655e-02, -5.72929718e-02,\n",
       "         -2.87689660e-02,  4.35411967e-02,  1.79320052e-02,  1.85296703e-02,\n",
       "          1.00144371e-02,  4.95867506e-02,  1.60232056e-02, -2.95633171e-02,\n",
       "         -1.08157061e-02, -4.03254516e-02,  3.51068354e-03,  9.17644706e-03,\n",
       "          4.64709774e-02, -5.19565418e-02, -1.29523659e-02,  9.88531951e-03,\n",
       "         -6.03665449e-02, -1.17153451e-02, -2.15295814e-02, -6.77789329e-03,\n",
       "         -3.03921141e-02,  1.14713861e-02, -5.23233861e-02,  3.43017792e-03,\n",
       "         -1.47683304e-02, -3.80716543e-03,  1.54493107e-02, -7.32743070e-02,\n",
       "          2.15726551e-02, -3.53145190e-02, -3.86172980e-02,  1.01551317e-01,\n",
       "         -3.85561660e-02,  5.40559366e-02, -8.86821467e-03,  2.19221212e-04,\n",
       "         -5.26502319e-02,  5.22891572e-03, -2.73656435e-02, -2.07704771e-02,\n",
       "         -5.06359488e-02, -6.77354354e-03, -3.04893795e-02,  2.66737305e-03,\n",
       "          7.88951069e-02,  6.11112192e-02,  3.94967347e-02,  5.40278852e-03,\n",
       "         -7.87089951e-03, -4.04228969e-03, -1.59641858e-02, -1.68252978e-02,\n",
       "         -8.78734794e-03,  1.86920930e-02,  2.82512922e-02, -1.97967291e-02,\n",
       "          1.77883636e-02,  2.63267476e-02, -4.91498336e-02,  2.18022503e-02,\n",
       "         -5.71218226e-03,  1.23753119e-02, -1.12355337e-01, -1.64949708e-02,\n",
       "         -1.91973560e-02,  3.01213113e-05, -1.80715299e-03,  7.77656212e-02,\n",
       "          2.60989275e-02, -4.22987267e-02,  3.85297984e-02, -5.36501594e-03,\n",
       "          6.68126671e-03,  6.66109053e-03,  6.36747405e-02,  1.96267776e-02,\n",
       "         -7.19913887e-03,  1.44955702e-02, -1.00403931e-02,  1.27332527e-02,\n",
       "          3.21163684e-02,  3.94948106e-03,  1.97986122e-02, -6.61469251e-02,\n",
       "          4.62301588e-03,  1.99762601e-02, -5.10472581e-02,  1.77505817e-02,\n",
       "          2.57951375e-02,  8.57150648e-03, -1.42720044e-02,  3.90247293e-02,\n",
       "          8.00318420e-02, -1.12210680e-03,  4.91760066e-03,  1.18651465e-02,\n",
       "          4.48943153e-02, -3.26110087e-02, -9.59114265e-03,  1.83231160e-02,\n",
       "         -2.08339244e-02, -3.60832624e-02, -3.64506803e-03,  2.55083060e-03,\n",
       "         -3.91339371e-03,  7.03863427e-02, -4.31823395e-02, -9.49289557e-03,\n",
       "         -2.06596660e-03, -2.11990941e-02,  6.46879375e-02,  1.57420132e-02,\n",
       "         -2.99025816e-03,  5.40840141e-02, -6.72630444e-02, -1.40480055e-02,\n",
       "         -5.85192908e-03,  2.58777360e-03,  3.45364101e-02, -5.17595466e-03,\n",
       "          1.79081783e-02, -3.97467427e-02,  9.03226659e-02, -2.74827108e-02,\n",
       "         -9.39483661e-03, -5.06799370e-02,  1.64071806e-02,  1.26991756e-02,\n",
       "          2.19455629e-07, -6.25380035e-03,  1.67820677e-02,  8.19675326e-02,\n",
       "         -8.37530661e-03,  5.76839447e-02, -3.70684173e-03,  4.57580946e-02,\n",
       "          6.29522651e-03, -1.40649993e-02, -5.26705571e-02,  2.61134729e-02,\n",
       "          3.52375470e-02, -3.47012915e-02, -1.87032279e-02,  9.63940658e-03,\n",
       "          8.24756268e-03,  3.98709476e-02,  2.11755447e-02,  3.57551202e-02,\n",
       "          1.47091132e-03, -6.84310272e-02,  6.07250771e-03, -4.05503139e-02,\n",
       "          4.13246127e-03, -4.69744578e-02, -2.96322275e-02, -4.11226489e-02,\n",
       "          2.36006621e-02, -3.41938697e-02,  4.16254811e-03, -2.85338182e-02,\n",
       "         -5.35170641e-03,  4.72428091e-02, -3.15539315e-02, -4.16033380e-02,\n",
       "          1.24593321e-02, -3.83326299e-02, -1.12379622e-02, -6.28802255e-02,\n",
       "          8.43061600e-03, -2.77553648e-02,  4.73086797e-02, -2.66707726e-02,\n",
       "         -2.66020506e-04,  1.79938562e-02,  6.78597987e-02,  3.83373164e-02,\n",
       "         -3.71301994e-02,  7.84205087e-03, -1.52359009e-02, -2.06024423e-02,\n",
       "          3.66723910e-03,  2.75598206e-02,  6.21668696e-02, -6.19782088e-03,\n",
       "          7.82848569e-04,  7.03811459e-03,  1.77021092e-03,  5.09991916e-03,\n",
       "          7.28920987e-03, -1.23571746e-01,  7.88137391e-02,  6.33076131e-02,\n",
       "          2.23752558e-02, -1.40220020e-02,  3.63174118e-02, -4.79991399e-02,\n",
       "          1.64736350e-34, -2.10391637e-02,  1.29929399e-02, -1.16410796e-02,\n",
       "          5.18762134e-02, -2.17581689e-02, -2.03995574e-02, -2.67034601e-02,\n",
       "          1.55875776e-02,  6.10080026e-02, -4.25847024e-02, -2.41353437e-02],\n",
       "        dtype=float32)),\n",
       " (0.5262726,\n",
       "  array([-5.84536158e-02, -1.35344183e-02, -1.94421988e-02,  4.31033084e-03,\n",
       "         -4.74822223e-02,  6.93348469e-03,  1.11801298e-02,  4.70509790e-02,\n",
       "         -2.49868049e-03, -1.84177328e-02, -2.89821923e-02, -3.87335569e-02,\n",
       "          2.22061370e-02, -4.57678543e-04,  4.44396492e-03, -7.58947730e-02,\n",
       "          9.93137062e-03, -1.78796030e-03, -1.64783560e-02, -3.82992886e-02,\n",
       "         -3.89389019e-03,  2.38472987e-02,  1.77159358e-03, -4.11219187e-02,\n",
       "          6.59345044e-03, -3.05095930e-02, -6.81250077e-03, -1.86548673e-03,\n",
       "         -1.29031762e-02, -1.63627248e-02,  2.56638303e-02, -2.15984955e-02,\n",
       "          5.40600307e-02, -5.35626784e-02,  1.57619604e-06, -9.70812049e-03,\n",
       "         -4.81248796e-02,  7.52815977e-04, -2.65918765e-02, -2.60243118e-02,\n",
       "          5.51785938e-02, -2.47415286e-02, -6.07030606e-03, -1.67012811e-02,\n",
       "          3.36813889e-02, -4.48488537e-03,  3.91596481e-02,  1.30440101e-01,\n",
       "          1.76037792e-02,  4.16215807e-02,  2.34707631e-02,  5.12894616e-03,\n",
       "          4.74936282e-03, -3.55790034e-02,  2.75949426e-02, -4.84795533e-02,\n",
       "         -1.98506471e-02,  2.43270081e-02,  1.84044726e-02,  3.33534814e-02,\n",
       "         -1.71570349e-02, -1.64122437e-03, -2.65502241e-02,  1.19037861e-02,\n",
       "         -9.56631899e-02,  6.01040237e-02,  3.04157846e-02, -3.53868566e-02,\n",
       "          2.78816018e-02,  4.04673768e-03, -4.00806107e-02,  2.79084165e-02,\n",
       "         -1.39267864e-02,  2.42429203e-03,  1.68610376e-03,  5.10953292e-02,\n",
       "          2.34987251e-02,  2.88433209e-03,  6.58558831e-02,  6.99094078e-03,\n",
       "         -8.96057859e-03,  8.74265563e-03,  2.70341337e-02, -6.13090768e-03,\n",
       "          3.58783603e-02, -2.23235674e-02, -2.67286738e-03, -6.27725013e-03,\n",
       "          3.50880623e-02,  9.36496165e-03,  5.44174537e-02,  5.84055949e-03,\n",
       "         -1.81710757e-02,  2.90393624e-02, -2.93895900e-02, -1.42000262e-02,\n",
       "         -4.10326645e-02,  2.11048126e-02, -1.25669437e-02,  1.29727591e-02,\n",
       "          2.54360754e-02, -2.12810859e-02,  1.09443389e-01,  2.21512113e-02,\n",
       "         -6.79612830e-02,  1.84756815e-02, -3.17759439e-02, -2.51943106e-03,\n",
       "          1.80664267e-02,  3.26343440e-02, -3.23999785e-02,  3.21264815e-04,\n",
       "         -6.54307008e-02,  9.87012591e-03, -4.17213999e-02, -2.05618925e-02,\n",
       "         -5.94242960e-02, -1.31718358e-02,  2.32406445e-02, -4.84903418e-02,\n",
       "          1.65493425e-03,  5.54455705e-02, -6.60036970e-03, -6.20924344e-04,\n",
       "          2.28415914e-02, -3.77088552e-03, -4.99364175e-02,  3.96399833e-02,\n",
       "          6.07345020e-03, -4.25817631e-02, -3.49071324e-02,  6.38668388e-02,\n",
       "         -3.00618764e-02,  1.18559217e-02, -7.19990116e-03, -8.98146704e-02,\n",
       "         -5.29050874e-03,  3.32716219e-02, -9.27707925e-03,  4.66254167e-02,\n",
       "          2.05304939e-02, -1.49838896e-02, -3.33409407e-03, -2.47211108e-04,\n",
       "          6.41751736e-02, -5.37424497e-02,  8.39758199e-03, -2.85329558e-02,\n",
       "         -3.75433788e-02, -1.06611094e-02, -5.01062311e-02,  4.14669998e-02,\n",
       "          5.50253838e-02,  1.98878478e-02,  2.17746999e-02,  3.78694907e-02,\n",
       "         -7.16721490e-02,  9.08567198e-03,  9.95648839e-03, -4.04943433e-03,\n",
       "          1.36378501e-02, -2.38331165e-02,  3.41558568e-02, -3.65535589e-03,\n",
       "          3.04787798e-04, -6.11817241e-02, -6.56603202e-02, -1.51482746e-02,\n",
       "          7.24227540e-03, -4.57712561e-02,  4.02962640e-02, -4.69552130e-02,\n",
       "         -2.48600841e-02,  3.43442596e-02, -1.42335640e-02,  8.54675025e-02,\n",
       "          5.55168092e-02, -2.40914524e-02, -6.38628006e-02, -4.36926782e-02,\n",
       "         -2.21929397e-03, -1.17797479e-02, -6.18539415e-02,  7.41220498e-03,\n",
       "          4.27461043e-02,  3.70212160e-02, -3.94512005e-02,  3.65578905e-02,\n",
       "         -6.88069612e-02,  2.73321569e-02,  6.73869578e-03, -3.34970579e-02,\n",
       "         -1.49293896e-02, -4.52929847e-02,  2.58027557e-02,  6.11910485e-02,\n",
       "          1.24083506e-03,  6.26112372e-02,  6.21237885e-03,  2.15680525e-02,\n",
       "          7.62705086e-03,  6.21564016e-02, -5.50302304e-02, -4.04938422e-02,\n",
       "         -3.38891186e-02, -1.29747642e-02, -1.42080355e-02,  2.04362497e-02,\n",
       "         -5.14637039e-04, -5.46333380e-03, -3.71396244e-02,  3.94669995e-02,\n",
       "         -6.54792488e-02,  2.18933560e-02, -1.12159755e-02,  3.42551172e-02,\n",
       "          1.06378393e-02, -2.96161808e-02,  1.96387935e-02, -8.46061260e-02,\n",
       "         -1.80519950e-02, -2.46330760e-02,  2.26936564e-02, -1.48490421e-03,\n",
       "         -1.32700637e-01,  9.52890813e-02,  1.00185918e-02, -2.06135144e-03,\n",
       "          6.60102163e-03, -2.90876236e-02,  1.58445910e-02,  7.03275204e-03,\n",
       "         -1.63601525e-02,  6.73893047e-03, -1.03746988e-01,  1.79043375e-02,\n",
       "          7.72185251e-02,  3.81976180e-02,  1.02145423e-03,  1.33688897e-02,\n",
       "         -1.15113771e-02, -4.39890288e-02,  4.16940786e-02, -1.62652675e-02,\n",
       "          3.40382829e-02,  1.80940179e-03,  3.28292996e-02,  5.68752224e-03,\n",
       "         -4.00710069e-02,  6.09866679e-02, -7.51901418e-02, -7.15343514e-04,\n",
       "         -2.67316550e-02,  3.65133882e-02,  1.13538746e-02,  9.94236581e-03,\n",
       "          3.94230224e-02, -1.60680823e-02, -3.41760479e-02, -3.53836790e-02,\n",
       "          4.37202565e-02, -2.25239284e-02,  2.04231415e-04,  4.44493853e-02,\n",
       "          3.41063365e-02,  7.50531107e-02, -1.44504029e-02,  1.97574729e-03,\n",
       "          5.41140847e-02, -1.43617215e-02,  4.45690639e-02, -9.46880598e-03,\n",
       "          6.87575899e-04, -1.94247719e-02, -5.55527918e-02, -2.42393035e-02,\n",
       "          1.26681235e-02, -2.78241150e-02, -3.79614383e-02, -1.22042419e-02,\n",
       "         -1.26538761e-02,  4.59216349e-02, -3.67671773e-02,  4.06500623e-02,\n",
       "          2.99307872e-02, -1.85994189e-02,  3.59261632e-02,  1.55249925e-03,\n",
       "          2.98463386e-02,  3.80274355e-02,  3.39200012e-02,  4.42393124e-02,\n",
       "         -8.97379592e-03, -1.13794841e-02,  4.47217263e-02,  5.58007434e-02,\n",
       "         -1.79715436e-02, -1.18458795e-03,  5.81422709e-02, -3.53199840e-02,\n",
       "          6.99644396e-03,  5.52872270e-02, -2.17008721e-02,  2.11161990e-02,\n",
       "         -5.68721220e-02, -2.46111397e-02, -5.56334443e-02, -6.68435991e-02,\n",
       "          3.65333036e-02,  2.59223976e-03,  4.04816307e-02, -7.32242875e-03,\n",
       "         -2.87471060e-02, -1.61377806e-02, -1.74330566e-02, -9.33110062e-03,\n",
       "          2.59694532e-02, -1.89918242e-02, -2.67976560e-02, -3.23109031e-02,\n",
       "         -3.16733979e-02,  2.22343355e-02, -5.31958863e-02, -1.72048640e-02,\n",
       "         -3.89739536e-02,  3.10102124e-02,  3.59022059e-02,  1.69383325e-02,\n",
       "         -1.06070982e-02, -2.15397831e-02,  4.21474576e-02, -4.92667183e-02,\n",
       "         -1.37875471e-02,  2.50778515e-02,  5.21330684e-02, -3.49196494e-02,\n",
       "         -4.35235724e-03, -7.52706081e-03,  4.41384874e-02,  3.58463004e-02,\n",
       "         -4.87300083e-02, -4.22619060e-02, -1.92365032e-02,  3.73396985e-02,\n",
       "         -7.52026041e-04,  1.05115743e-02, -3.07031926e-02, -9.42690240e-04,\n",
       "         -7.94442222e-02, -7.93537647e-02,  4.90176212e-03, -1.45917591e-02,\n",
       "         -5.34698330e-02,  1.82804894e-02,  9.46859829e-03, -2.03202982e-02,\n",
       "          3.27658490e-04,  3.30088325e-02, -5.07955020e-03,  1.06500760e-02,\n",
       "         -1.95172727e-02,  7.36719668e-02, -3.31514217e-02,  2.03695446e-02,\n",
       "          1.28946397e-02, -3.69213186e-02, -1.82318978e-03, -5.58564067e-02,\n",
       "         -1.72065515e-02,  2.18834495e-03,  1.29600121e-02,  1.17981406e-02,\n",
       "         -1.67971440e-02,  3.30930576e-02, -2.05084425e-03,  1.01028457e-02,\n",
       "          1.77883711e-02,  7.51052946e-02, -3.41122001e-02,  2.59329826e-02,\n",
       "         -2.54223123e-02, -3.57043520e-02, -2.81359684e-02, -7.34074414e-03,\n",
       "          6.43817522e-03, -1.10553000e-02,  4.33741175e-02,  5.07420003e-02,\n",
       "         -1.01228371e-01,  7.16023729e-04, -2.62270565e-04, -5.64556830e-02,\n",
       "         -8.75671767e-03, -3.71892154e-02,  4.34196033e-02, -1.45884920e-02,\n",
       "         -1.05570685e-02, -1.27125895e-02, -4.48726490e-03,  4.22951579e-02,\n",
       "         -4.03257310e-02,  4.64179739e-02,  4.91512865e-02, -3.99103947e-02,\n",
       "         -4.98238057e-02,  3.78738269e-02, -2.53107939e-02, -3.63587886e-02,\n",
       "          1.23876277e-02, -3.72183844e-02,  8.98680016e-02,  1.21841058e-02,\n",
       "          1.83360025e-04, -2.25521438e-02,  1.32608041e-02,  3.20450962e-02,\n",
       "          4.91169654e-02,  6.86212629e-02,  4.44366001e-02, -9.08238739e-02,\n",
       "         -1.09737525e-02,  2.65801921e-02,  3.43330987e-02,  7.02344673e-03,\n",
       "          1.61602609e-02,  2.87562655e-03,  6.65067658e-02, -2.03985758e-02,\n",
       "          7.45371653e-05, -1.06448838e-02,  2.30498407e-02, -1.34217972e-02,\n",
       "         -5.44996299e-02,  7.28172734e-02, -3.21562141e-02, -2.83273291e-02,\n",
       "         -9.47051123e-03, -3.29081044e-02,  3.58905606e-02,  8.71581398e-03,\n",
       "          5.42005012e-03, -1.33063840e-02,  1.26396678e-03,  6.09886553e-03,\n",
       "          6.49616048e-02, -2.17147097e-02,  2.19665766e-02, -4.07208875e-03,\n",
       "         -4.30192947e-02,  2.30642278e-02,  2.39941684e-04, -4.00997838e-03,\n",
       "         -3.93517092e-02,  1.87675878e-02,  4.89339307e-02,  1.01919593e-02,\n",
       "         -3.34707880e-03, -2.75389198e-03,  6.09132797e-02, -2.56128609e-02,\n",
       "         -1.02484105e-02, -9.40672588e-03, -9.29525960e-03, -3.09272911e-02,\n",
       "         -5.65949315e-03,  7.87543729e-02, -4.10471074e-02, -1.22758877e-02,\n",
       "          2.94436961e-02, -1.10585559e-02, -5.24080731e-02, -6.45425869e-03,\n",
       "          4.00715880e-02, -1.15752798e-02,  3.97192612e-02,  6.24968223e-02,\n",
       "         -3.06898914e-02, -9.51146707e-02, -1.14185340e-03, -5.61844148e-02,\n",
       "         -6.91794828e-02, -2.16801427e-02, -3.86808068e-02, -2.90806014e-02,\n",
       "         -1.49221690e-02,  7.62848696e-03,  1.72089748e-02,  1.18869916e-02,\n",
       "         -2.71585602e-02,  5.36001585e-02,  4.91716862e-02, -3.40328179e-02,\n",
       "          4.88232970e-02, -3.14731523e-02,  2.81009208e-02,  5.35202436e-02,\n",
       "         -3.53354253e-02,  6.06485829e-02,  7.14310110e-02,  3.67968567e-02,\n",
       "         -6.94955466e-03,  4.56367210e-02,  5.92481419e-02,  3.32928076e-02,\n",
       "         -4.59155366e-02, -3.69691774e-02, -1.62245724e-02, -4.18996699e-02,\n",
       "          1.75963361e-02, -1.69350393e-02, -4.14637988e-03,  1.94262080e-02,\n",
       "          6.40280247e-02,  5.03354669e-02, -1.15718339e-02, -3.89755145e-02,\n",
       "         -2.82011386e-02,  1.13695497e-02, -1.60108060e-02,  9.26721655e-03,\n",
       "         -6.14865161e-02, -8.57824460e-03,  9.11740214e-03, -2.93696318e-02,\n",
       "          1.26515487e-02, -1.59146972e-02,  2.39615634e-04,  1.10042440e-02,\n",
       "          1.00441417e-02, -3.20869847e-03, -8.12455118e-02,  4.06792648e-02,\n",
       "          2.96402839e-03, -5.39964028e-02, -1.19477361e-02, -1.55020505e-02,\n",
       "          1.14629166e-02, -2.37594116e-02,  4.18768525e-02, -4.57969606e-02,\n",
       "          2.06585079e-02, -5.82200568e-03,  7.54949730e-03,  4.71191444e-02,\n",
       "          8.27788562e-03,  4.12281789e-02,  4.67209779e-02, -2.54391842e-02,\n",
       "         -1.40243601e-02,  2.01037321e-02, -3.82876471e-02, -3.85346939e-03,\n",
       "         -5.48606785e-03, -2.21192688e-02, -1.13372719e-02, -4.75771237e-33,\n",
       "          2.86789965e-02, -6.90468820e-03,  9.91457794e-03, -1.88484639e-02,\n",
       "         -3.81292067e-02,  4.60974462e-02,  3.07699125e-02,  1.82732921e-02,\n",
       "          6.87631918e-03,  3.21488231e-02,  1.89820081e-02, -1.41297914e-02,\n",
       "         -1.45621896e-02, -4.05811891e-02,  1.58215519e-02,  3.69988345e-02,\n",
       "          2.15637237e-02, -5.86894117e-02, -3.83097343e-02,  1.68104209e-02,\n",
       "         -9.20882821e-03,  1.28039969e-02, -2.48962939e-02, -3.13702561e-02,\n",
       "          2.03956128e-03,  5.75952381e-02, -7.20221698e-02,  1.89759918e-02,\n",
       "         -4.06468660e-02,  1.95221808e-02, -2.51293126e-02, -9.61321667e-02,\n",
       "          2.39095353e-02, -5.21856621e-02, -5.02034165e-02,  8.53359997e-02,\n",
       "         -8.47266056e-03,  2.63638794e-02, -3.02521996e-02,  3.95526178e-03,\n",
       "          7.02019129e-03, -7.92259909e-03, -3.97429289e-03,  8.91113561e-03,\n",
       "         -3.49733047e-02, -1.56442486e-02, -1.65375005e-02,  2.06769537e-02,\n",
       "          9.28805321e-02,  3.17609273e-02,  4.56697820e-03,  7.01485202e-03,\n",
       "         -2.97976118e-02,  2.69383285e-02,  1.23280240e-02, -5.55598326e-02,\n",
       "         -1.96283087e-02, -2.64365482e-03,  5.93165830e-02, -3.00989635e-02,\n",
       "          3.46672721e-02,  3.62188965e-02, -2.76336800e-02,  4.24531065e-02,\n",
       "         -6.01425692e-02,  2.61802506e-03, -6.52056187e-02, -3.86603847e-02,\n",
       "          6.35376386e-03,  5.75829111e-03,  3.68740708e-02,  8.66038427e-02,\n",
       "         -2.29753926e-02, -6.60221428e-02, -8.20734631e-03,  2.10493915e-02,\n",
       "          1.34654660e-02,  2.71327142e-02,  1.96151994e-02, -4.26135739e-05,\n",
       "         -2.27121543e-02, -7.95083761e-04, -2.80808397e-02,  4.44544069e-02,\n",
       "          3.39762084e-02, -8.53188336e-02,  1.53722679e-02, -2.11744271e-02,\n",
       "          3.74479149e-03,  1.75890159e-02, -4.33623753e-02,  5.33603765e-02,\n",
       "          1.70404594e-02,  1.39268916e-02,  1.38405059e-02,  1.06808171e-03,\n",
       "          7.46129304e-02, -6.97676418e-03,  1.67635418e-02, -9.86918435e-03,\n",
       "          3.47866379e-02, -2.54362598e-02, -8.93536780e-04,  2.13129632e-02,\n",
       "         -1.19542386e-02, -1.95922516e-02,  2.89540011e-02,  6.39354717e-03,\n",
       "         -3.80056687e-02,  2.71391012e-02, -1.48710550e-03, -2.35779993e-02,\n",
       "         -1.60295740e-02, -1.96057428e-02,  5.40322810e-02, -9.96426586e-03,\n",
       "         -1.08265337e-02,  6.49915859e-02, -8.48724023e-02, -5.86544685e-02,\n",
       "          6.16567559e-04,  3.89882810e-02,  2.79058032e-02,  2.04097964e-02,\n",
       "         -2.28218623e-02, -3.07243597e-02,  8.24183822e-02, -2.78418642e-02,\n",
       "          7.22281681e-03, -7.65198171e-02,  3.24703418e-02,  7.76665732e-02,\n",
       "          2.16399343e-07,  2.41803434e-02, -3.66599523e-02,  6.11623414e-02,\n",
       "          9.68904886e-03,  3.89327854e-02,  6.26446120e-03,  4.11962047e-02,\n",
       "         -1.60076004e-02,  5.36350114e-03,  2.79766675e-02,  3.17292362e-02,\n",
       "          1.71833765e-02, -8.31800178e-02, -4.10943571e-03,  1.94828752e-02,\n",
       "         -9.70725901e-03,  7.38504082e-02,  1.95095036e-02,  1.13849305e-02,\n",
       "         -1.97129976e-03, -5.13651930e-02,  1.67061910e-02, -2.35000961e-02,\n",
       "          2.80208215e-02, -5.19138165e-02,  6.46591280e-03, -3.22269499e-02,\n",
       "          5.02212681e-02,  1.31890574e-03, -3.33985640e-03, -3.57585773e-02,\n",
       "          1.37418183e-02,  4.66249511e-02, -3.91111746e-02, -3.62919904e-02,\n",
       "          3.84834819e-02, -1.46979501e-03, -3.78430705e-03, -4.64712381e-02,\n",
       "         -3.81610431e-02, -1.87884364e-02,  2.85160355e-02, -4.39403541e-02,\n",
       "          2.71120071e-02,  6.38079597e-03,  3.92416716e-02,  2.27350276e-02,\n",
       "         -1.56421121e-02,  3.38533125e-03, -4.48852923e-04, -4.45650071e-02,\n",
       "          2.70992564e-03,  3.03449053e-02,  5.86538836e-02,  4.61514993e-03,\n",
       "          1.39538003e-02,  1.97630259e-03, -7.73439184e-03,  1.92213748e-02,\n",
       "         -9.49378219e-03, -9.55534801e-02,  6.58774450e-02,  8.08957741e-02,\n",
       "          5.70039041e-02, -2.78666243e-02,  7.08469003e-02, -5.18234409e-02,\n",
       "          1.49994342e-34, -5.18571138e-02,  2.22285651e-03, -2.13192217e-02,\n",
       "          1.73807386e-02,  9.80071165e-03, -3.62590444e-03,  3.12632956e-02,\n",
       "         -3.95046175e-03,  1.32171819e-02, -5.96792856e-03, -2.87121162e-02],\n",
       "        dtype=float32)),\n",
       " (0.4969731,\n",
       "  array([-2.61535700e-02, -9.35943890e-03, -2.02080384e-02, -1.38129841e-03,\n",
       "         -3.09667848e-02,  2.50994507e-02,  1.75907295e-02,  5.81140593e-02,\n",
       "          8.11692048e-03, -4.00447613e-03,  2.92532034e-02, -2.99236421e-02,\n",
       "          3.91006507e-02, -2.24539954e-02,  4.71600257e-02, -3.77617627e-02,\n",
       "          1.59224663e-02,  2.12941337e-02, -1.69585887e-02, -3.99777032e-02,\n",
       "         -5.44532249e-03,  4.33921441e-03, -9.56632569e-03, -5.80666251e-02,\n",
       "         -5.62754720e-02, -2.65104212e-02, -3.41143906e-02, -5.94629860e-03,\n",
       "         -4.98728920e-03,  4.49506100e-03,  3.87134068e-02,  2.08428921e-03,\n",
       "          4.64201421e-02, -2.37692278e-02,  1.79575204e-06, -1.57182664e-02,\n",
       "         -3.28576937e-02, -2.13548895e-02, -3.75591181e-02, -1.17567265e-02,\n",
       "          4.94796522e-02,  1.09927393e-02,  2.24109795e-02,  1.26673896e-02,\n",
       "          3.78422178e-02, -1.43541675e-02,  4.97786961e-02,  2.54396275e-02,\n",
       "         -1.10267503e-02,  4.23707925e-02, -8.78668390e-03,  1.62045211e-02,\n",
       "         -2.53014732e-02, -3.26332115e-02,  7.79095367e-02, -4.48007807e-02,\n",
       "         -1.23153552e-02, -9.44923726e-04,  5.49256951e-02,  6.33729845e-02,\n",
       "         -2.42952704e-02, -2.93943994e-02, -1.82546545e-02, -3.39162513e-03,\n",
       "         -1.37731638e-02,  2.44224723e-03, -1.52498425e-03, -6.36682585e-02,\n",
       "          2.75114905e-02,  7.07379542e-03,  8.66335910e-03,  3.00941169e-02,\n",
       "         -2.28488296e-02,  1.88245121e-02,  5.49118929e-02,  8.44885334e-02,\n",
       "         -1.86859351e-03, -1.34407263e-02,  7.94026330e-02, -1.53482091e-02,\n",
       "         -2.73408145e-02,  5.25667658e-03,  1.62369926e-02,  8.70586466e-03,\n",
       "          3.96795897e-03, -4.41164384e-03,  3.97981517e-03,  1.17627736e-02,\n",
       "         -1.17275408e-02,  1.15266470e-02,  3.73277776e-02,  2.43576597e-02,\n",
       "          1.23815695e-02,  4.79579456e-02, -5.58351632e-03,  3.17625254e-02,\n",
       "         -3.92364375e-02, -1.57442670e-02,  4.33102105e-04, -4.53117350e-03,\n",
       "          6.96077049e-02,  1.69522669e-02,  6.08070046e-02, -1.29468720e-02,\n",
       "         -7.32867196e-02,  2.97946879e-03, -2.65152305e-02, -2.14529398e-04,\n",
       "         -5.11897504e-02,  4.63274829e-02, -2.95285843e-02, -6.79469528e-03,\n",
       "         -4.46930453e-02,  2.11828183e-02, -7.48879537e-02, -6.36684299e-02,\n",
       "         -8.21743682e-02,  4.39737318e-03,  2.95963250e-02, -4.53628786e-02,\n",
       "         -5.01552671e-02,  2.15237420e-02, -1.86115112e-02, -4.74407375e-02,\n",
       "         -1.18298235e-03, -2.07249983e-03, -2.26936117e-02,  3.93170826e-02,\n",
       "          1.23910764e-02, -3.80735509e-02, -6.28843084e-02,  3.98379527e-02,\n",
       "          6.76905783e-03,  2.10085046e-02, -1.43838953e-02, -7.09582344e-02,\n",
       "          2.55888440e-02,  7.45868171e-03,  7.08859414e-02,  3.09348721e-02,\n",
       "          1.23095722e-03, -2.55095791e-02, -3.76806818e-02,  2.03365320e-03,\n",
       "          2.52118427e-02, -6.21632300e-02, -1.06428266e-02,  3.12029701e-02,\n",
       "         -3.71408500e-02, -6.76354207e-03, -3.51441912e-02,  4.56750058e-02,\n",
       "         -2.64690630e-02,  3.75683382e-02, -4.43160272e-04, -5.71570417e-04,\n",
       "         -1.78506058e-02,  1.18484627e-02,  2.79787444e-02,  2.60630045e-02,\n",
       "          2.70370990e-02, -2.09450033e-02,  1.01983109e-02,  1.39516592e-03,\n",
       "         -5.06078941e-04, -5.00458516e-02, -2.12858859e-02, -3.56260454e-03,\n",
       "         -3.10694315e-02, -5.37984855e-02, -3.15027088e-02, -5.63183427e-02,\n",
       "         -1.66409265e-03,  8.06416273e-02, -2.88234130e-02,  6.98457211e-02,\n",
       "          1.10255312e-02,  2.73143258e-02, -8.14248770e-02, -1.05876282e-01,\n",
       "         -2.75970977e-02, -1.02315936e-02, -3.37066725e-02, -1.31226974e-02,\n",
       "          3.92232575e-02,  4.16967645e-02, -9.50562209e-03,  1.35730403e-02,\n",
       "         -5.82278781e-02,  1.58401616e-02, -1.71487369e-02, -4.83431481e-02,\n",
       "          6.95141628e-02, -1.92525014e-02,  5.91623075e-02,  3.21301855e-02,\n",
       "          2.54025664e-02,  3.05763334e-02,  4.74201422e-03,  1.18293539e-02,\n",
       "          4.19781096e-02,  3.75649072e-02, -5.05090170e-02, -2.30148574e-03,\n",
       "         -5.77074755e-03, -9.29515287e-02, -4.95016947e-02,  2.23465525e-02,\n",
       "         -2.64476798e-02,  3.83887962e-02, -4.97864373e-02,  2.95043327e-02,\n",
       "         -6.20164089e-02,  1.61697119e-02, -3.70564475e-03,  6.89157620e-02,\n",
       "          1.30945351e-02,  3.35962884e-03,  3.78798842e-02, -2.53144447e-02,\n",
       "          6.84783747e-03, -9.87181291e-02,  2.12176740e-02,  2.85797310e-03,\n",
       "         -9.35572535e-02,  6.14059344e-02,  4.50774617e-02, -1.39955129e-03,\n",
       "         -8.76467023e-03, -6.67230273e-03,  4.83838320e-02,  2.64278054e-03,\n",
       "         -6.88618189e-03, -2.21352950e-02, -5.45396172e-02,  3.31059843e-02,\n",
       "          2.46397909e-02,  2.28649825e-02, -1.64760072e-02,  5.52403592e-02,\n",
       "         -2.55660396e-02,  1.64390989e-02,  3.69405597e-02, -4.50319313e-02,\n",
       "          4.65740412e-02, -3.35776992e-02, -4.76229638e-02, -1.56742930e-02,\n",
       "         -2.89970767e-02,  3.48117836e-02, -4.01877090e-02,  2.94997562e-02,\n",
       "          2.86536571e-02,  3.78066599e-02, -2.15730332e-02,  8.42728019e-02,\n",
       "          5.55708148e-02,  2.05608387e-03,  1.66406501e-02,  1.25914048e-02,\n",
       "          2.56146733e-02, -2.55474355e-03, -1.94417480e-02,  4.35040072e-02,\n",
       "         -8.10428057e-03,  2.81560626e-02,  2.86418162e-02, -1.15991747e-02,\n",
       "          1.61334332e-02, -2.74327723e-03,  4.78130467e-02,  1.01548629e-02,\n",
       "          6.34944113e-03, -1.40617806e-02, -5.76518252e-02, -2.27075219e-02,\n",
       "          2.15683766e-02, -3.42076668e-03, -1.35254744e-03, -1.74238458e-02,\n",
       "          2.09056726e-03,  6.56779259e-02, -4.58158068e-02,  5.37759718e-03,\n",
       "          5.38966320e-02, -2.68716048e-02,  3.94147001e-02, -1.05894059e-02,\n",
       "         -1.72442291e-02, -3.99183668e-03, -1.07133882e-02,  5.36640510e-02,\n",
       "         -4.83863521e-03, -4.20989143e-03, -2.24039704e-02,  2.15063058e-02,\n",
       "         -7.54890293e-02, -1.16610229e-02,  4.96761836e-02, -7.64911100e-02,\n",
       "         -1.08024944e-02,  6.35449737e-02, -1.79039966e-02,  3.83426226e-03,\n",
       "         -9.10607725e-02, -1.79439373e-02, -2.78629158e-02, -3.38542275e-02,\n",
       "          6.41051978e-02, -5.41340336e-02,  3.25215864e-03, -1.26828244e-02,\n",
       "         -3.30816023e-02, -4.51815426e-02, -2.13173247e-04, -6.26156479e-02,\n",
       "          4.30250764e-02, -6.10022694e-02, -1.78285185e-02, -1.60430837e-02,\n",
       "          1.24360137e-02,  1.07532945e-02,  3.44536304e-02,  1.02578243e-02,\n",
       "         -2.41269059e-02, -2.99627818e-02,  3.15284617e-02,  2.36384645e-02,\n",
       "          1.06575955e-02, -6.58251997e-03,  1.09616611e-02, -1.13414757e-01,\n",
       "         -5.39545575e-03,  7.77042136e-02,  4.56677452e-02, -2.33445242e-02,\n",
       "         -5.79857919e-03, -2.67419741e-02,  4.62080762e-02,  6.29811510e-02,\n",
       "         -1.87670536e-04, -4.47844639e-02, -6.78935274e-02,  3.10712531e-02,\n",
       "          4.99270260e-02, -3.29931974e-02, -6.45248871e-03,  5.52872643e-02,\n",
       "         -7.57084927e-03, -6.38522953e-02,  1.67642683e-02,  7.36231282e-02,\n",
       "         -2.90701240e-02,  8.53670239e-02, -3.10496446e-02,  6.12882199e-03,\n",
       "          1.90242883e-02,  3.31734866e-02, -2.45471695e-03, -3.43674161e-02,\n",
       "         -7.95388687e-03,  2.72533149e-02, -6.27313368e-03, -3.92409563e-02,\n",
       "          2.07654554e-02, -8.60962179e-03, -9.09491442e-03, -2.20737457e-02,\n",
       "         -9.37687140e-03, -8.97398964e-03,  1.59294829e-02,  2.42308099e-02,\n",
       "         -2.33874563e-02,  3.12770456e-02,  7.31609296e-03,  4.94861696e-03,\n",
       "          1.85835343e-02,  5.10099949e-03,  4.20945510e-02,  7.05441274e-03,\n",
       "         -2.61230152e-02, -3.72034237e-02,  5.29907178e-03,  3.19923088e-02,\n",
       "         -2.36000996e-02,  7.14071468e-03,  2.46413555e-02, -5.94326528e-03,\n",
       "         -1.15273587e-01,  1.05207076e-03,  2.61746589e-02, -7.67887607e-02,\n",
       "         -4.15713489e-02,  3.67011619e-03,  4.52312641e-02,  7.25966543e-02,\n",
       "          1.02144741e-02,  1.11618862e-02, -3.21106426e-02,  1.92377511e-02,\n",
       "         -3.24040018e-02, -1.19476691e-02, -1.45801273e-03, -8.11332464e-02,\n",
       "          1.43768322e-02,  4.12522489e-03,  1.55388878e-03, -4.09845412e-02,\n",
       "          1.68772452e-02, -1.16128579e-03,  8.48886073e-02, -2.33282987e-02,\n",
       "          9.94112901e-03, -1.55314198e-02,  3.36760543e-02,  3.52774076e-02,\n",
       "          3.05021368e-02,  4.61699180e-02,  2.79425662e-02, -4.76742797e-02,\n",
       "          2.75250431e-02,  3.58045138e-02,  3.35799879e-03,  3.55272107e-02,\n",
       "          4.08030972e-02,  2.03552730e-02,  2.93224026e-02, -7.22556654e-03,\n",
       "         -3.28166224e-02, -1.25563536e-02,  9.46538523e-03,  1.43767679e-02,\n",
       "         -1.88083164e-02,  4.82751094e-02, -2.72931363e-02,  5.65827042e-02,\n",
       "         -1.28195351e-02, -8.53530243e-02,  4.78276387e-02, -2.12717690e-02,\n",
       "         -2.69866660e-02,  5.83515503e-03, -8.67775362e-03, -2.78534484e-03,\n",
       "          1.09525219e-01,  2.90460009e-02, -5.94896451e-03,  7.57463090e-03,\n",
       "         -2.51632966e-02,  1.47607950e-02, -5.06383041e-03,  1.15709014e-01,\n",
       "         -3.55961211e-02, -1.98011547e-02,  6.48938045e-02, -6.20891480e-03,\n",
       "         -4.14279215e-02,  2.14368384e-02,  3.31834820e-03, -2.82702632e-02,\n",
       "          8.66886508e-03, -5.47831369e-05,  9.35550313e-03, -4.39979136e-02,\n",
       "          1.39165912e-02, -1.11108795e-02, -5.36337420e-02, -1.37331663e-02,\n",
       "          2.03624833e-02,  1.15981773e-02, -5.15209101e-02,  1.70515552e-02,\n",
       "          4.66652252e-02, -1.63111724e-02,  4.06876542e-02,  3.84279527e-02,\n",
       "         -4.11052480e-02, -8.55446905e-02, -4.07094434e-02, -7.85388052e-03,\n",
       "         -4.68687452e-02, -7.19709545e-02, -1.61594395e-02, -3.45784356e-03,\n",
       "          8.36911984e-03,  4.57060058e-03, -4.22601774e-02,  1.91123914e-02,\n",
       "         -7.68789556e-03,  5.44160157e-02,  2.78804991e-02, -3.43393609e-02,\n",
       "          4.12626974e-02, -3.07286289e-02,  4.62111272e-03,  6.36873990e-02,\n",
       "         -9.70238261e-03,  2.14353241e-02, -4.31144498e-02, -5.47598042e-02,\n",
       "          8.24985094e-03,  3.80278341e-02,  9.00718383e-03,  1.38539663e-02,\n",
       "         -5.55496253e-02, -1.03932116e-02, -2.11224090e-02,  1.54406449e-03,\n",
       "          3.54428478e-02, -4.78295647e-02,  8.43981374e-03,  4.08247635e-02,\n",
       "          5.26852906e-02,  1.74334738e-02,  2.56644636e-02,  1.38173634e-02,\n",
       "         -4.03624289e-02, -1.60362385e-02,  1.11081200e-02,  2.23367158e-02,\n",
       "         -5.71421273e-02, -2.73405183e-02, -2.42668274e-03, -2.12609209e-02,\n",
       "          3.56519915e-04, -4.02170941e-02,  1.58614926e-02,  3.48110609e-02,\n",
       "          3.64521891e-02, -1.25359055e-02, -4.44670469e-02, -2.49068299e-03,\n",
       "         -3.19497474e-03, -2.91245580e-02, -1.93642825e-02,  1.90701466e-02,\n",
       "         -1.77595429e-02, -1.70616806e-02,  9.40639526e-03, -4.53338865e-03,\n",
       "          2.22238358e-02, -4.63285968e-02, -5.17745130e-02,  3.59370857e-02,\n",
       "          9.38380882e-03,  2.41303351e-02,  1.99799314e-02, -1.55543331e-02,\n",
       "         -2.78722253e-02, -7.90922344e-03, -3.32440808e-02,  2.96945237e-02,\n",
       "          1.46839907e-02, -1.11802164e-02, -6.22662157e-03, -5.01750323e-33,\n",
       "          1.30318217e-02,  2.78566927e-02,  3.23910196e-03, -7.88596347e-02,\n",
       "         -4.36804369e-02,  2.87223477e-02, -1.36685651e-02,  2.97171734e-02,\n",
       "          1.49963256e-02,  2.54220329e-02,  4.39660177e-02, -2.73919757e-02,\n",
       "         -1.79553758e-02, -1.84289124e-02, -1.53973475e-02, -9.79651883e-03,\n",
       "          3.02785467e-02, -1.37996217e-02,  1.70723703e-02, -2.71068048e-03,\n",
       "         -6.10547177e-02, -1.36101153e-02, -2.06694342e-02, -1.05977720e-02,\n",
       "         -5.16684493e-04,  4.74671880e-03, -3.91276143e-02,  2.85917129e-02,\n",
       "          1.08320406e-02, -2.07263767e-03,  1.18719647e-02, -5.17481901e-02,\n",
       "          7.89641496e-03, -2.76295785e-02, -1.89827420e-02,  1.11692660e-01,\n",
       "         -2.93091778e-02,  7.89259747e-02, -9.32111405e-03,  3.58850546e-02,\n",
       "         -8.02191049e-02, -1.32028144e-02, -4.33303416e-02, -1.03887245e-02,\n",
       "         -4.29735556e-02,  1.08875148e-02, -3.64643373e-02, -2.13741437e-02,\n",
       "          7.10133016e-02,  9.76739228e-02,  4.87646908e-02,  4.88836924e-03,\n",
       "         -1.96573362e-02, -1.46238701e-02, -2.45660357e-02,  1.73639935e-02,\n",
       "         -2.93843984e-03, -1.29061379e-02,  1.45197557e-02,  2.75033480e-03,\n",
       "          7.87003431e-03,  2.86949892e-02, -2.93343551e-02,  1.59198828e-02,\n",
       "         -2.31997799e-02,  5.56852948e-03, -1.05890043e-01,  1.06024905e-03,\n",
       "         -4.89535034e-02,  2.48491373e-02, -3.01676169e-02,  6.58716634e-02,\n",
       "          4.08669338e-02, -6.95077777e-02,  3.30075361e-02,  2.13836553e-03,\n",
       "          3.29738110e-02, -3.81196593e-03,  4.24346216e-02,  3.73982899e-02,\n",
       "          2.48841252e-02,  2.54584234e-02, -1.61394160e-02,  1.07443742e-02,\n",
       "          2.45298464e-02,  1.64009538e-02,  3.39725874e-02, -6.61732778e-02,\n",
       "          2.58975979e-02,  7.57918134e-03, -4.55923378e-02, -3.30469012e-03,\n",
       "          8.64120107e-03, -1.64801963e-02, -8.97741131e-03,  2.50314102e-02,\n",
       "          4.00459319e-02, -1.01953950e-02,  1.41065835e-03,  1.65721197e-02,\n",
       "          5.29221781e-02, -3.02077620e-03, -1.79170892e-02,  3.32772098e-02,\n",
       "         -5.16302027e-02, -4.44602743e-02, -1.12598250e-03, -1.12713650e-02,\n",
       "         -7.65684620e-03,  7.16747195e-02, -3.53428312e-02, -2.10777670e-02,\n",
       "          1.15942666e-02,  1.77462527e-03,  4.98379432e-02,  2.51715374e-03,\n",
       "         -8.45437776e-03,  1.03600740e-01, -5.25172800e-02, -6.17775600e-03,\n",
       "         -2.54105106e-02, -3.05148121e-02,  1.59561336e-02, -5.66256791e-03,\n",
       "          5.34193125e-03, -2.47830413e-02,  5.43638505e-02,  9.06898919e-03,\n",
       "         -2.51040831e-02, -5.00798412e-02,  3.07919774e-02,  6.49411650e-03,\n",
       "          2.28098699e-07, -1.62329432e-02,  4.31736857e-02,  7.38537461e-02,\n",
       "         -1.72624420e-02,  6.40462562e-02, -4.37499862e-03,  5.73149398e-02,\n",
       "         -9.56968591e-03, -3.10393376e-03, -2.16565933e-02,  1.19044231e-02,\n",
       "          2.39631850e-02, -3.62353139e-02, -2.63268799e-02,  3.77533026e-02,\n",
       "         -4.29443233e-02,  1.48760965e-02,  1.44308445e-03,  2.70226486e-02,\n",
       "          1.71649642e-02, -7.00197667e-02,  3.38564673e-03, -9.40455031e-03,\n",
       "          1.92669686e-03, -5.77144139e-02, -3.53802331e-02, -3.77929993e-02,\n",
       "          3.05254813e-02, -2.06267312e-02,  5.09642577e-03, -1.39877321e-02,\n",
       "          1.15248542e-02,  4.08817083e-02, -5.82106560e-02, -2.70795375e-02,\n",
       "          2.39628218e-02, -2.90433597e-02, -2.98481039e-03, -5.86525276e-02,\n",
       "         -1.35132973e-03, -1.69669110e-02,  6.26216531e-02, -1.76609941e-02,\n",
       "          6.29196968e-03,  2.32912675e-02,  6.00304678e-02,  4.71665412e-02,\n",
       "         -1.78154781e-02, -1.38735361e-02,  1.44418254e-02, -5.44540398e-02,\n",
       "          4.84708278e-03,  1.04104644e-02,  3.82771976e-02, -1.87655240e-02,\n",
       "          2.35679746e-02,  1.06214052e-02,  1.25347720e-02,  1.89041123e-02,\n",
       "          2.67691966e-02, -1.26408055e-01,  5.75893819e-02,  5.97064495e-02,\n",
       "          3.97406630e-02, -3.99750210e-02,  1.82171818e-02, -6.88145161e-02,\n",
       "          1.48308036e-34,  7.71876238e-03,  1.41463075e-02,  2.76712840e-03,\n",
       "          6.55296147e-02, -1.95180606e-02, -3.17628160e-02, -3.49221453e-02,\n",
       "          9.42854863e-03,  7.37103820e-02, -4.00487930e-02, -4.43759747e-02],\n",
       "        dtype=float32)),\n",
       " (0.49576867,\n",
       "  array([-3.31738479e-02, -4.73833419e-02, -1.68565474e-02, -5.70368161e-03,\n",
       "         -5.34440503e-02,  2.36464571e-02,  2.96973847e-02,  3.69766280e-02,\n",
       "          1.64531432e-02,  1.11822532e-02, -4.72410163e-03, -7.11561441e-02,\n",
       "          5.26785515e-02, -1.45170260e-02,  3.03520542e-02, -4.42013070e-02,\n",
       "         -6.38251798e-03,  4.73033041e-02, -3.65820341e-02, -4.33810987e-02,\n",
       "          2.20555943e-02,  2.08537523e-02, -9.56065394e-03, -6.22879155e-02,\n",
       "         -3.22909802e-02, -3.85296270e-02, -1.16318511e-02,  9.36657377e-03,\n",
       "         -3.34759541e-02, -2.27657091e-02,  1.36082526e-02, -1.56575663e-03,\n",
       "          1.52168674e-02, -2.49409992e-02,  1.58516059e-06,  1.60728407e-03,\n",
       "         -4.98760268e-02,  4.69183596e-03, -2.55178586e-02, -2.37317830e-02,\n",
       "         -2.90481467e-02,  2.43214853e-02,  2.75625996e-02,  5.24205156e-04,\n",
       "          9.32315830e-03, -4.25619632e-02, -6.03806088e-03,  3.80593427e-02,\n",
       "          2.85784509e-02,  2.39572432e-02, -9.26641095e-03, -1.05633149e-02,\n",
       "         -1.63464230e-02, -6.14199787e-03,  6.14375770e-02, -4.50113118e-02,\n",
       "         -3.22496928e-02,  3.60897463e-03, -1.84733104e-02,  7.28766099e-02,\n",
       "         -4.96529266e-02, -4.88455147e-02,  1.90138828e-03,  3.07907052e-02,\n",
       "         -6.01021014e-02,  4.63608764e-02,  3.88715998e-03, -1.98824909e-02,\n",
       "          3.97651307e-02,  3.58566903e-02,  5.25464937e-02,  1.71334781e-02,\n",
       "         -2.46408451e-02,  1.03554837e-02,  2.30402891e-02, -3.40079051e-03,\n",
       "          3.17708254e-02, -1.45271420e-02,  7.85481706e-02,  1.64808724e-02,\n",
       "         -2.13496946e-02,  4.93350811e-02,  2.06580535e-02,  7.88669786e-06,\n",
       "          3.22070159e-02, -7.17339665e-02, -1.16143757e-02,  1.11142397e-02,\n",
       "          2.75622904e-02,  3.46956328e-02,  3.79858874e-02,  1.78375170e-02,\n",
       "          4.26977291e-04,  7.59494454e-02, -1.00139910e-02,  1.29984962e-02,\n",
       "         -3.46696675e-02, -6.64288327e-02,  6.76717423e-03,  4.33545560e-02,\n",
       "          2.47215722e-02,  1.48720108e-02,  6.92459047e-02,  2.04328317e-02,\n",
       "         -7.42394179e-02,  2.76219789e-02, -2.25219596e-02, -3.75906117e-02,\n",
       "          1.72279812e-02,  1.56456791e-02, -2.32891254e-02, -2.81429775e-02,\n",
       "         -7.27362931e-02,  1.46151623e-02, -6.76018745e-02, -2.71985698e-02,\n",
       "         -4.67431061e-02, -1.20663121e-02,  6.95515051e-02, -6.13438115e-02,\n",
       "         -1.91819365e-03,  7.93119371e-02, -1.35307722e-02, -2.56428663e-02,\n",
       "          3.97598967e-02,  1.76200159e-02, -1.54898008e-02,  9.45894793e-03,\n",
       "          1.22170169e-02, -4.37715948e-02, -4.02998738e-02,  2.77398601e-02,\n",
       "         -1.76586304e-02,  3.44065502e-02, -3.71230505e-02, -6.87169507e-02,\n",
       "          1.48552116e-02,  3.34292985e-02, -9.20311734e-03,  2.51555480e-02,\n",
       "          2.09942628e-02, -3.33098210e-02, -1.77693851e-02,  9.24948789e-03,\n",
       "          6.65602833e-02, -1.90757550e-02, -5.46810217e-03, -6.54224120e-03,\n",
       "         -3.52895260e-02, -2.67226566e-02, -5.81192737e-03,  3.45227048e-02,\n",
       "          2.57645939e-02,  1.84032172e-02,  2.38934476e-02,  2.54402235e-02,\n",
       "         -8.46595988e-02, -1.38060907e-02, -1.24387695e-02,  3.14582549e-02,\n",
       "         -1.30805757e-03,  5.09335361e-02, -1.72246899e-02, -3.79369967e-02,\n",
       "          3.58943641e-02, -2.83643436e-02, -5.61902672e-02, -5.77062694e-03,\n",
       "         -1.68795437e-02, -6.64669871e-02,  7.31820567e-03, -6.25621602e-02,\n",
       "         -1.49766905e-02,  7.15232342e-02, -1.40147144e-02,  8.45947489e-02,\n",
       "          1.56529713e-02,  1.97225697e-02, -5.88023625e-02, -7.15401918e-02,\n",
       "         -1.80203817e-03, -3.19633260e-02, -4.20505777e-02, -1.64650921e-02,\n",
       "         -2.72433069e-02,  2.56429948e-02, -7.74167851e-02,  4.74517494e-02,\n",
       "         -5.85994236e-02,  3.09494473e-02,  1.42223351e-02, -2.30169557e-02,\n",
       "         -7.86629785e-03, -2.00826302e-02,  4.08636816e-02,  4.10910249e-02,\n",
       "         -5.25882887e-03,  3.07136513e-02,  4.22637584e-03,  2.52164202e-03,\n",
       "          2.02864222e-02,  5.89516833e-02, -3.04989107e-02, -4.70474698e-02,\n",
       "         -4.05418724e-02, -2.48092450e-02,  2.92326808e-02,  2.54115127e-02,\n",
       "          1.42340572e-03,  1.22013688e-02, -3.83676738e-02,  4.75910790e-02,\n",
       "         -8.99312720e-02,  1.87688842e-02, -2.29758434e-02,  6.49163052e-02,\n",
       "         -5.67081571e-03, -3.32460478e-02,  1.76240411e-02, -3.28355245e-02,\n",
       "         -6.97093410e-03,  2.01558173e-02,  4.17024083e-02, -1.65598989e-02,\n",
       "         -9.09324661e-02,  8.68760049e-02,  1.80049110e-02,  4.72914008e-03,\n",
       "          1.23231234e-02, -3.45420837e-02,  2.65499726e-02,  2.62773912e-02,\n",
       "         -3.57045121e-02,  1.08087193e-02, -4.40618694e-02, -1.03672985e-02,\n",
       "          6.58505559e-02, -5.76198916e-04,  4.38503083e-03,  5.85121550e-02,\n",
       "         -4.00789268e-03, -3.56295258e-02,  3.34206857e-02, -2.39564627e-02,\n",
       "          3.10051385e-02,  2.70447927e-03,  2.54029110e-02, -2.28736494e-02,\n",
       "         -1.52321756e-02,  5.04720062e-02, -5.47095463e-02,  2.07822770e-02,\n",
       "         -3.52927367e-04,  3.00528184e-02, -2.09127311e-02,  2.18112599e-02,\n",
       "          5.96775860e-02,  2.70468798e-02, -3.09045482e-02, -1.28138112e-02,\n",
       "          5.14524393e-02, -7.40031991e-03,  3.06650531e-02,  2.76818126e-02,\n",
       "          4.79882322e-02,  5.67562245e-02,  5.82101122e-02, -4.11175266e-02,\n",
       "          4.79759574e-02, -1.99860688e-02,  5.33830598e-02,  5.13632735e-03,\n",
       "          1.79967768e-02, -6.81387773e-03, -4.56916243e-02, -2.65455842e-02,\n",
       "          4.31746505e-02, -4.33670096e-02, -1.13395667e-02, -1.12166815e-02,\n",
       "          1.26724197e-02,  9.62154791e-02, -2.00466737e-02,  1.85031891e-02,\n",
       "          3.06359455e-02, -7.61001417e-03, -9.49534122e-03,  5.31580159e-03,\n",
       "          1.12747736e-02,  2.16005966e-02,  4.76751514e-02,  1.98142380e-02,\n",
       "          2.46689655e-02, -2.31771078e-02,  4.05709222e-02,  6.18101172e-02,\n",
       "          2.55283713e-02,  7.73501070e-03,  4.68654409e-02, -3.29006016e-02,\n",
       "         -1.43074263e-02,  1.04363188e-01, -9.35859047e-03,  1.49340117e-02,\n",
       "         -5.75365648e-02, -1.15320068e-02, -1.70311071e-02, -7.05933347e-02,\n",
       "          5.19366264e-02,  7.59432977e-03,  4.62441295e-02,  1.40088452e-02,\n",
       "         -1.70668848e-02, -4.05375957e-02, -1.14129800e-02, -3.64860334e-02,\n",
       "         -1.23068448e-02, -6.28647953e-03, -2.22331882e-02, -1.99510995e-02,\n",
       "         -2.26306599e-02,  5.95695153e-02, -3.93043160e-02, -5.10425121e-02,\n",
       "         -8.50959588e-03,  1.10497628e-03,  2.33053286e-02,  1.99832805e-02,\n",
       "          1.89416334e-02, -3.43037955e-02,  2.18620263e-02, -6.44372776e-02,\n",
       "         -4.47870916e-05,  5.22145368e-02,  4.64426763e-02,  1.01332814e-02,\n",
       "         -2.15957756e-03, -6.73153922e-02,  5.96159175e-02,  4.49637286e-02,\n",
       "         -4.35755663e-02, -4.00286615e-02, -6.11251919e-03, -2.91027734e-03,\n",
       "         -5.78193087e-03,  1.84888598e-02, -3.24928500e-02,  3.66047062e-02,\n",
       "         -3.93177383e-02, -4.60258275e-02, -6.43469335e-04,  9.44773760e-03,\n",
       "         -4.00589406e-02,  4.07460444e-02, -1.54080456e-02,  3.51351895e-03,\n",
       "         -2.20609996e-02, -6.87915925e-03, -1.64942145e-02, -1.84330810e-02,\n",
       "         -8.94322544e-02,  6.10561743e-02,  3.64120528e-02,  2.69981381e-02,\n",
       "         -1.03787065e-03, -3.47505249e-02,  1.25659490e-03, -2.21098736e-02,\n",
       "         -4.89487462e-02,  2.46916269e-03, -2.13889964e-02,  3.38177979e-02,\n",
       "          3.02325990e-02,  1.02422023e-02, -2.10593604e-02,  1.62226893e-02,\n",
       "         -4.08379780e-03,  7.81842321e-02, -3.96606475e-02,  1.84438601e-02,\n",
       "         -2.10321024e-02, -1.77351981e-02, -3.97802442e-02, -1.67563818e-02,\n",
       "         -3.04548256e-02, -1.99477226e-02,  1.40045295e-02,  1.33845992e-02,\n",
       "         -1.08851165e-01, -3.19523104e-02,  5.64833498e-03, -8.11986625e-02,\n",
       "         -4.89081852e-02, -6.27585500e-03,  1.69446468e-02,  1.33132553e-02,\n",
       "         -4.13801223e-02,  2.81345658e-02, -4.13590809e-04,  2.14334819e-02,\n",
       "         -2.14335695e-02,  1.92668270e-02,  6.78076819e-02, -1.66351106e-02,\n",
       "         -1.69591755e-02,  1.53460540e-02, -1.59293469e-02, -5.99047169e-03,\n",
       "          6.41080290e-02,  8.16292688e-03,  2.50833202e-02, -9.21646953e-02,\n",
       "         -8.18820577e-03, -3.73077951e-02,  2.38910802e-02,  2.36637853e-02,\n",
       "          2.76663601e-02,  2.50461493e-02,  1.15174167e-02, -7.13779926e-02,\n",
       "         -2.85295378e-02, -1.82537222e-03,  1.02993296e-02,  5.54190576e-03,\n",
       "          1.41564384e-02,  1.34515772e-02,  5.10727949e-02,  7.59989349e-03,\n",
       "         -1.46960868e-02,  2.25096624e-02,  2.84234062e-02, -2.39703786e-02,\n",
       "         -3.74348983e-02,  5.46788275e-02, -2.58722622e-02,  2.33905832e-03,\n",
       "         -8.66040867e-03, -6.05014488e-02,  3.93985398e-02,  1.80541165e-02,\n",
       "          9.89478175e-03, -1.41894631e-02,  2.45885886e-02,  4.74025169e-03,\n",
       "          7.07381144e-02, -2.40902673e-03,  1.13843428e-02, -1.33961681e-02,\n",
       "         -3.39495093e-02,  3.68035422e-03,  3.16597335e-02,  6.47374839e-02,\n",
       "         -5.84444143e-02,  6.80537894e-02,  4.74072024e-02,  1.65246744e-02,\n",
       "         -5.84094413e-03,  7.33275861e-02,  3.86010222e-02, -2.52912119e-02,\n",
       "         -1.19639309e-02, -9.00551619e-04, -6.09647781e-02, -4.81222011e-02,\n",
       "         -5.82106505e-03,  3.77387553e-02, -2.82485001e-02, -6.17706068e-02,\n",
       "          2.07807217e-02, -6.91086240e-03, -5.62034175e-02, -3.01783048e-02,\n",
       "          3.23364325e-02, -4.80968598e-03,  2.37319507e-02,  5.02719842e-02,\n",
       "         -1.54887093e-02, -6.67607710e-02, -8.56664311e-03, -2.85641402e-02,\n",
       "         -5.10968305e-02, -2.56783161e-02, -2.34346781e-02, -6.34942725e-02,\n",
       "          9.71002597e-03, -1.69857666e-02,  2.16664188e-02,  1.32474536e-02,\n",
       "          1.66047402e-02,  5.30296266e-02,  8.07084143e-02, -6.23270012e-02,\n",
       "          3.65402699e-02,  3.77701479e-03,  2.73312125e-02,  8.97392631e-02,\n",
       "         -1.54385781e-02,  1.08711133e-02, -2.42502484e-02,  1.95229240e-03,\n",
       "          7.21750734e-03,  3.93327735e-02,  1.90594941e-02,  2.92891115e-02,\n",
       "         -6.51694685e-02, -4.02173512e-02, -2.18882947e-03, -4.47084345e-02,\n",
       "          2.69877147e-02, -1.54260350e-02, -2.93530673e-02,  4.18881029e-02,\n",
       "          7.01273605e-02,  5.49602881e-02, -3.41056474e-02, -1.40533305e-03,\n",
       "         -3.18109840e-02, -1.19233308e-02, -1.05015794e-02,  1.63240340e-02,\n",
       "         -7.13982582e-02, -2.60439366e-02, -1.87685795e-03, -5.57201356e-02,\n",
       "          7.93224853e-03, -5.35517819e-02, -5.22632990e-03,  1.99977234e-02,\n",
       "         -1.14578810e-02,  3.75928520e-03,  1.07341714e-03,  3.03022340e-02,\n",
       "          3.50723267e-02, -3.11007146e-02, -8.98155384e-03, -2.53068153e-02,\n",
       "          3.76348235e-02, -9.32552572e-03,  3.52327861e-02, -3.54237296e-02,\n",
       "         -3.31864990e-02, -5.44502027e-02, -6.03416599e-02,  4.37779650e-02,\n",
       "          3.40739079e-03,  7.67478719e-02,  3.81031223e-02, -4.83251031e-04,\n",
       "         -3.88575415e-03,  1.45556182e-02, -2.39638332e-02,  4.30725999e-02,\n",
       "         -4.44218144e-03, -1.12248445e-03, -4.79058176e-03, -4.89965808e-33,\n",
       "          1.26908729e-02,  2.74407351e-03,  5.12480410e-03, -5.31365396e-03,\n",
       "         -1.36332959e-02,  2.05982793e-02,  4.17224988e-02,  6.79828925e-03,\n",
       "          4.10957970e-02,  1.43594649e-02,  8.88623111e-03, -1.39337573e-02,\n",
       "          5.37730753e-03, -5.85028939e-02, -2.78726220e-02,  5.51847667e-02,\n",
       "          2.68154591e-02, -4.09696288e-02, -2.01732945e-02,  4.47749309e-02,\n",
       "         -2.98667084e-02,  6.88753498e-04,  4.77840612e-03, -2.53948569e-02,\n",
       "         -2.83028744e-02,  4.53758612e-03, -2.06711255e-02,  1.57440139e-03,\n",
       "         -5.80688678e-02,  3.51818628e-03,  3.21403408e-04, -5.70818409e-02,\n",
       "          2.68533975e-02, -1.47619564e-02, -4.84226048e-02,  8.43965858e-02,\n",
       "         -4.83139716e-02,  6.95185438e-02, -2.88337115e-02,  2.06365678e-02,\n",
       "         -3.49517390e-02,  2.51951558e-03, -5.03529534e-02, -6.98482152e-03,\n",
       "         -4.01342474e-02, -3.56622376e-02, -1.24997487e-02,  1.81554649e-02,\n",
       "          5.51087186e-02,  2.47145183e-02,  4.71975468e-02, -1.30996034e-02,\n",
       "         -2.28032731e-02, -6.46722224e-03,  2.27466435e-03, -4.62624356e-02,\n",
       "         -1.79720819e-02, -5.03834337e-03,  6.97289109e-02, -1.84398461e-02,\n",
       "          1.49406223e-02,  1.60062581e-03, -5.80167659e-02,  2.58452259e-02,\n",
       "         -1.51949115e-02, -4.11601970e-03, -9.83441100e-02, -4.24825326e-02,\n",
       "          5.66829294e-02, -3.49758789e-02,  2.31663529e-02,  9.31704938e-02,\n",
       "         -2.46078521e-02, -2.67890878e-02,  8.20397362e-02, -2.64691301e-02,\n",
       "          1.89103894e-02,  2.49451362e-02,  4.83549275e-02,  8.50011827e-04,\n",
       "         -1.79207008e-02, -5.63889230e-03,  1.32640125e-02,  4.01184261e-02,\n",
       "          1.90689042e-02, -5.96399419e-02,  2.59764269e-02, -3.93613949e-02,\n",
       "         -7.75019173e-03,  2.98982896e-02, -5.92780858e-02,  4.65228856e-02,\n",
       "          4.11564149e-02, -4.65381704e-03, -2.51665548e-03,  2.36700512e-02,\n",
       "          6.98243678e-02,  4.61110147e-03,  2.29882374e-02, -6.06865762e-03,\n",
       "          6.97915927e-02, -7.81664345e-03,  1.89946350e-02,  4.25484963e-03,\n",
       "         -5.46018779e-02, -1.55733610e-02, -2.07015276e-02, -2.85780560e-02,\n",
       "         -1.00339847e-02,  2.84376312e-02, -2.79045608e-02, -6.66183047e-03,\n",
       "         -5.86335734e-03, -3.95039516e-03,  3.75464633e-02, -1.22740036e-02,\n",
       "         -2.31661964e-02,  6.09283373e-02, -7.36904889e-02, -8.92694667e-03,\n",
       "         -1.25558395e-02, -1.73143707e-02,  1.23177441e-02,  7.46829901e-03,\n",
       "          1.29021490e-02, -4.35716771e-02,  7.40621909e-02,  1.17313359e-02,\n",
       "          3.02210115e-02, -6.68048859e-02,  3.01170330e-02,  5.72189912e-02,\n",
       "          2.12642220e-07, -7.54641509e-03, -4.56788912e-02,  6.73260763e-02,\n",
       "          1.67211909e-02,  7.37947896e-02,  9.37260874e-03,  5.57134300e-02,\n",
       "          1.05484566e-02,  1.96691435e-02, -4.68080267e-02, -1.46335158e-02,\n",
       "          6.31629154e-02, -5.13253212e-02, -3.15512298e-03,  2.49361768e-02,\n",
       "         -1.10081146e-02,  4.62298207e-02,  4.34412155e-03,  2.39848997e-03,\n",
       "         -3.45317125e-02, -7.59529546e-02,  2.11157044e-03, -3.79095189e-02,\n",
       "         -3.71575728e-03, -2.52947453e-02,  1.55159906e-02, -2.15276629e-02,\n",
       "          4.97702695e-02,  8.32533278e-03,  3.46507616e-02, -1.01834685e-02,\n",
       "          7.42760953e-03,  3.73919643e-02, -5.51941767e-02,  3.44471866e-03,\n",
       "          2.97940914e-02, -3.09565552e-02, -1.08659090e-02, -6.97059631e-02,\n",
       "         -5.27498908e-02,  1.43726426e-03,  6.07242361e-02, -5.24269417e-02,\n",
       "          3.45247686e-02,  3.83349229e-03,  1.43434284e-02,  3.30142677e-02,\n",
       "          1.17951157e-02, -2.80666742e-02, -9.36242472e-03, -3.88077237e-02,\n",
       "          2.15036571e-02,  3.50882933e-02,  4.10400666e-02, -2.63776407e-02,\n",
       "         -2.00461373e-02,  1.75334737e-02,  2.84443144e-02,  1.62560400e-02,\n",
       "          1.09318569e-02, -9.92594510e-02,  2.53764894e-02,  6.10875562e-02,\n",
       "         -3.03721405e-03, -3.32661532e-02,  1.46894669e-02, -4.49682251e-02,\n",
       "          1.45328284e-34, -4.78605554e-02,  6.52176852e-04,  1.28781609e-02,\n",
       "          5.26521578e-02, -2.93114893e-02, -1.04412101e-02,  1.21774413e-02,\n",
       "         -3.78149655e-03,  2.86426768e-02, -2.50399094e-02, -3.23523693e-02],\n",
       "        dtype=float32)),\n",
       " (0.4955559,\n",
       "  array([-5.26778139e-02, -3.15722153e-02, -1.92781854e-02,  1.24525847e-02,\n",
       "         -7.40000680e-02,  9.99861490e-03,  2.08570976e-02,  5.28982803e-02,\n",
       "          5.01790382e-02,  2.66873054e-02,  2.79671177e-02, -3.37883607e-02,\n",
       "          3.19358297e-02, -1.87400822e-02,  2.16155555e-02, -2.84038987e-02,\n",
       "         -1.12484945e-02,  2.72618383e-02,  3.12169679e-02, -2.64246408e-02,\n",
       "          2.37257369e-02,  8.87320004e-03,  8.07844196e-03, -4.21085022e-02,\n",
       "         -3.19893882e-02, -5.88472597e-02, -2.03699376e-02,  8.15797132e-04,\n",
       "         -4.27542217e-02,  7.06346286e-03,  6.82169721e-02,  4.60827257e-04,\n",
       "          3.67388949e-02, -1.72049105e-02,  1.42651288e-06, -8.80320184e-03,\n",
       "         -1.74892116e-02,  4.17225203e-03, -3.88838327e-03, -2.01413520e-02,\n",
       "          4.47070412e-02,  2.59584188e-02,  2.65583787e-02,  4.82435804e-03,\n",
       "          3.55595127e-02, -9.57319979e-03,  3.94983180e-02,  4.06868011e-02,\n",
       "         -5.73433191e-03,  3.84050943e-02,  2.00646790e-03, -6.42324612e-03,\n",
       "         -4.61351201e-02, -7.72377057e-03,  8.65193978e-02, -1.41376229e-02,\n",
       "         -5.73292710e-02, -8.16115737e-03, -3.56526077e-02,  3.91685739e-02,\n",
       "         -2.79501695e-02, -4.81454916e-02, -6.80050580e-03,  4.96768160e-03,\n",
       "         -9.43545178e-02,  5.32614887e-02, -2.95274444e-02, -3.51666622e-02,\n",
       "          4.93011326e-02, -1.43545168e-03, -6.62504928e-03,  2.95144059e-02,\n",
       "         -2.11860938e-03,  2.76435446e-02,  4.08342406e-02,  1.65465418e-02,\n",
       "          2.10939907e-02, -3.74432057e-02,  4.09906693e-02, -1.96262412e-02,\n",
       "         -3.83098312e-02,  3.81437428e-02,  4.24384363e-02,  4.16408712e-03,\n",
       "          9.76680033e-03, -5.08785322e-02, -2.64104232e-02,  1.56217243e-03,\n",
       "          3.94633077e-02,  2.21391525e-02,  7.31303021e-02,  3.97046991e-02,\n",
       "          2.36342587e-02,  2.74009071e-02,  8.57644249e-04, -4.97332402e-03,\n",
       "         -3.99886966e-02, -6.28550574e-02,  2.86276508e-02,  3.52878571e-02,\n",
       "          3.31531689e-02, -3.45755048e-04,  8.29625726e-02,  2.37185042e-02,\n",
       "         -6.46112412e-02,  2.05660588e-03, -1.07206712e-02, -2.57136654e-02,\n",
       "         -1.60657298e-02,  2.85441149e-02, -6.29323795e-02,  1.45110032e-02,\n",
       "         -2.71101557e-02,  4.26399289e-03, -3.15118283e-02, -3.61442752e-02,\n",
       "         -5.13936318e-02, -3.78158712e-03,  5.02281226e-02, -3.57047133e-02,\n",
       "         -2.11712383e-02,  4.11956869e-02, -2.16766987e-02, -3.88219953e-02,\n",
       "          6.72382629e-03,  1.98770724e-02,  1.59401242e-02,  3.59874964e-02,\n",
       "          4.77085412e-02,  1.52409198e-02, -6.54183924e-02,  5.61999381e-02,\n",
       "         -3.85269709e-02,  2.98161656e-02, -3.99144925e-02, -7.70981088e-02,\n",
       "          9.03101545e-03,  3.82161001e-03,  5.88893481e-02,  3.94604728e-02,\n",
       "          1.61531102e-02, -9.32737440e-03,  1.68656092e-02,  1.21156394e-03,\n",
       "          3.30455899e-02, -1.44669097e-02,  1.06852560e-03, -4.28479910e-03,\n",
       "         -3.46675068e-02, -2.26173941e-02, -4.44414653e-02,  2.28936356e-02,\n",
       "          2.02315510e-03,  1.60463843e-02,  2.19742637e-02, -1.00129913e-03,\n",
       "         -4.70364466e-02,  3.33008659e-03,  5.60974982e-03,  5.88368848e-02,\n",
       "          1.95224967e-03, -6.18530810e-03, -3.44759822e-02, -2.10765135e-02,\n",
       "          1.94178969e-02, -4.43218015e-02, -4.07289825e-02,  1.07645160e-02,\n",
       "          1.69488078e-03, -4.26748991e-02,  4.73216958e-02, -3.49434242e-02,\n",
       "         -1.52230375e-02,  6.59324080e-02,  4.29559918e-03,  6.85516372e-02,\n",
       "          8.64685327e-02,  4.84398901e-02, -5.54792583e-02, -8.03773776e-02,\n",
       "         -4.17274907e-02, -1.22084795e-02, -2.74756216e-02, -2.34762430e-02,\n",
       "         -1.69616137e-02,  3.97359319e-02, -9.61750094e-03,  3.24743427e-02,\n",
       "         -6.92765266e-02,  3.00507527e-03, -3.94125376e-03, -4.40702140e-02,\n",
       "         -9.85495839e-03, -1.05440430e-02,  4.38127704e-02,  3.45855989e-02,\n",
       "          1.57550834e-02,  6.01587333e-02, -1.92038212e-02,  2.07180120e-02,\n",
       "          3.21477652e-02,  3.20220739e-02, -3.39985751e-02, -2.79201232e-02,\n",
       "         -3.45103666e-02, -6.32316545e-02, -1.28074577e-02,  1.40464557e-02,\n",
       "          1.96267739e-02,  5.35868816e-02, -4.22946326e-02,  5.88970408e-02,\n",
       "         -4.10576500e-02,  3.80674265e-02, -1.84101760e-02,  7.89617449e-02,\n",
       "          6.80190325e-03, -4.24776860e-02, -1.20949615e-02, -3.14650461e-02,\n",
       "         -2.94318832e-02, -2.85216980e-02,  3.15580629e-02, -3.22722979e-02,\n",
       "         -1.04879923e-01,  5.64739257e-02,  5.00872880e-02, -1.49553334e-02,\n",
       "          7.80849112e-03, -1.55028030e-02,  1.66090894e-02,  1.19759887e-02,\n",
       "         -1.04028024e-02, -3.24641094e-02, -5.45394197e-02, -1.76539812e-02,\n",
       "          5.86547628e-02, -3.59007786e-03, -6.52919989e-03,  4.78314608e-02,\n",
       "         -6.18146872e-03, -4.09812219e-02,  1.42104672e-02, -3.34743336e-02,\n",
       "          6.88873008e-02, -2.79903580e-02,  2.52273530e-02,  6.02444820e-03,\n",
       "         -5.11833504e-02,  5.67220151e-02, -7.62204677e-02, -5.09534788e-04,\n",
       "          2.77016428e-03,  4.90403688e-03,  4.83023096e-03,  2.86072511e-02,\n",
       "          5.88289760e-02, -4.04194370e-03, -1.68295242e-02, -1.06837675e-02,\n",
       "          5.30030429e-02,  1.35862604e-02,  4.89037149e-02,  7.22993910e-02,\n",
       "          2.80859675e-02,  7.57020861e-02, -2.39828806e-02,  1.67251397e-02,\n",
       "          6.20557405e-02, -1.55705353e-03,  4.42030951e-02, -3.04789073e-03,\n",
       "         -3.61317489e-03, -1.81292854e-02, -3.43729705e-02, -1.47156436e-02,\n",
       "         -7.71829509e-04, -4.18868884e-02, -2.62477193e-02, -1.41209783e-02,\n",
       "          4.92903497e-03,  5.70873804e-02, -3.50799486e-02,  2.28592381e-02,\n",
       "          6.30665869e-02, -4.65182140e-02, -7.76176399e-04,  5.53963706e-02,\n",
       "         -3.05820964e-02,  2.86828843e-03,  2.66029174e-03,  2.89138574e-02,\n",
       "         -2.72261677e-03, -6.93834620e-03, -7.29823625e-03,  3.50711308e-02,\n",
       "         -2.53224242e-02, -2.31678374e-02,  3.76395211e-02, -1.32232815e-01,\n",
       "          1.06922593e-02,  3.95791754e-02, -4.99111461e-03,  1.32513158e-02,\n",
       "         -6.34314343e-02, -4.07148488e-02, -3.11075505e-02, -6.68990985e-02,\n",
       "          7.55510181e-02, -1.91639047e-02,  5.76697700e-02,  1.23492274e-02,\n",
       "         -8.70403647e-03, -4.54179794e-02, -3.93777713e-03, -2.84496490e-02,\n",
       "          1.39585538e-02, -4.02392410e-02, -1.32924058e-02, -7.28681125e-03,\n",
       "         -2.58438233e-02,  1.37605527e-02,  9.34316218e-03,  9.18769184e-03,\n",
       "         -4.69017327e-02,  3.47107016e-02,  4.13260199e-02,  2.26084720e-02,\n",
       "         -1.04198465e-03, -2.11198442e-02,  4.26153466e-02, -8.49116370e-02,\n",
       "          7.52908317e-03,  8.52439478e-02,  3.77169847e-02,  1.23267611e-02,\n",
       "         -1.58766881e-02, -8.55705440e-02,  6.42735064e-02,  2.86924057e-02,\n",
       "         -3.64716612e-02, -3.67329419e-02, -8.70792102e-03,  3.12085147e-03,\n",
       "          4.29248922e-02, -5.61910681e-03, -7.04016478e-04,  5.40550612e-02,\n",
       "         -4.43767337e-03, -5.87391444e-02,  2.63259970e-02,  2.76058130e-02,\n",
       "         -1.56196197e-02,  3.89785543e-02, -1.71865057e-02, -1.72030479e-02,\n",
       "         -4.03201953e-03,  2.19878997e-03, -4.46408428e-03,  1.73313748e-02,\n",
       "         -2.07572673e-02,  3.26147787e-02,  2.09752563e-02, -1.35594013e-03,\n",
       "         -3.10125016e-02, -8.96296930e-03, -4.56045801e-03, -6.01259433e-02,\n",
       "         -2.78926957e-02, -5.04321558e-03, -2.06257943e-02,  3.97090539e-02,\n",
       "         -3.61995474e-02,  1.22610563e-02, -1.66021399e-02, -3.31759565e-02,\n",
       "         -7.65119866e-03,  3.59092616e-02,  4.42876928e-02,  1.61475092e-02,\n",
       "         -3.18500549e-02, -3.58922556e-02, -4.46373895e-02, -1.11867907e-02,\n",
       "         -2.64527574e-02,  2.34081056e-02,  1.74783878e-02,  9.64404736e-03,\n",
       "         -8.78176987e-02,  6.37458218e-03,  1.29946731e-02, -4.12376113e-02,\n",
       "         -7.38854408e-02, -4.15491611e-02,  3.18265110e-02,  3.44580077e-02,\n",
       "         -1.36821233e-02,  1.87602025e-02, -5.75091271e-03,  1.29440697e-02,\n",
       "         -3.91648188e-02,  1.40381390e-02,  2.80474946e-02, -5.16909324e-02,\n",
       "         -7.15865241e-03,  2.39902642e-02,  1.44988084e-02, -5.02142385e-02,\n",
       "          2.31864378e-02, -3.68018970e-02,  3.46827172e-02, -4.59575504e-02,\n",
       "         -2.49802209e-02, -3.22292969e-02,  8.84098746e-03,  5.07432818e-02,\n",
       "          1.77815538e-02,  3.31232585e-02,  9.32860095e-03, -7.41603002e-02,\n",
       "          4.10623550e-02,  1.77506451e-02,  3.88540886e-02,  1.43062538e-02,\n",
       "          2.39612535e-02,  9.88129806e-03,  2.14132238e-02,  3.93723175e-02,\n",
       "         -1.14104962e-02, -1.87915913e-03,  3.40290889e-02,  7.54508469e-03,\n",
       "         -2.65082326e-02,  7.86777288e-02,  4.41315584e-02,  1.39648402e-02,\n",
       "         -4.90512885e-02, -5.80279976e-02,  7.90793747e-02, -6.73362520e-04,\n",
       "         -8.29038490e-03, -9.50245094e-03, -4.02015895e-02, -2.25659776e-02,\n",
       "          1.13452055e-01,  9.94847622e-03, -1.04185464e-02, -2.63007339e-02,\n",
       "         -3.82166132e-02,  2.33035367e-02, -2.26323809e-02,  4.54605930e-02,\n",
       "         -5.95737249e-02,  3.20912302e-02,  5.45793250e-02,  1.63803261e-03,\n",
       "          4.03692313e-02,  1.27900494e-02,  3.67885195e-02,  6.88014831e-03,\n",
       "         -3.58178839e-02, -7.06479326e-03, -4.15872969e-02, -3.32198031e-02,\n",
       "          9.56413057e-03, -4.19467539e-02,  4.43591597e-03, -3.46382745e-02,\n",
       "         -2.75233928e-02,  3.23787965e-02, -3.06553654e-02,  4.91718901e-03,\n",
       "          5.31178564e-02, -2.02399418e-02,  2.69954018e-02,  3.77847329e-02,\n",
       "         -4.61493134e-02, -1.21470012e-01, -8.78755003e-02, -2.19281372e-02,\n",
       "         -5.78157455e-02,  2.46153353e-03, -2.58546267e-02, -4.91270982e-02,\n",
       "          2.77142730e-02,  2.02750657e-02,  4.03781943e-02, -1.15768183e-02,\n",
       "         -1.47606002e-03,  2.77159978e-02,  4.90751639e-02, -7.96316341e-02,\n",
       "          4.23182100e-02,  3.23874690e-02,  4.35576662e-02,  4.72076274e-02,\n",
       "         -2.80377623e-02,  9.13460180e-03, -3.12997662e-02,  2.33726744e-02,\n",
       "         -1.62407551e-02,  1.35565698e-02,  1.50803654e-02,  4.73287404e-02,\n",
       "         -5.51793016e-02, -1.59129873e-02, -3.72055359e-02, -1.80112235e-02,\n",
       "          2.14802492e-02, -1.69386752e-02, -1.11723924e-03,  3.16369906e-02,\n",
       "          5.11182211e-02,  5.56012765e-02,  5.09781018e-02, -1.92508996e-02,\n",
       "          1.04397349e-03, -2.75981352e-02, -1.37090124e-02,  4.86528575e-02,\n",
       "         -5.74854203e-02, -3.08580268e-02,  3.09201851e-02, -3.32248360e-02,\n",
       "          2.00890545e-02, -5.36991954e-02, -3.36084445e-03,  1.94207840e-02,\n",
       "          4.44703773e-02, -2.86654383e-02, -2.29269452e-02,  1.77323073e-02,\n",
       "          2.86935084e-03, -3.68512496e-02, -6.01724442e-03, -1.65340654e-03,\n",
       "          2.88993083e-02, -1.60588957e-02,  2.51980461e-02, -1.93040408e-02,\n",
       "         -2.33205166e-02, -2.83283275e-02,  6.05186541e-03,  4.08407003e-02,\n",
       "          3.03181168e-02,  5.08588739e-02,  2.12708209e-02, -2.28001624e-02,\n",
       "         -2.77952589e-02,  1.47054077e-03, -3.25680897e-02,  3.89173776e-02,\n",
       "          1.27840582e-02, -2.33489797e-02, -5.38608842e-02, -4.56860949e-33,\n",
       "          4.83757677e-03,  2.69865990e-02,  7.59833492e-03, -6.11271560e-02,\n",
       "          1.48253497e-02,  4.84266952e-02,  7.51233520e-03, -1.84219126e-02,\n",
       "          2.73316447e-02,  3.22783589e-02,  4.28968593e-02, -2.69426908e-02,\n",
       "         -5.21369046e-03, -3.51839587e-02, -2.87623387e-02,  2.67254561e-02,\n",
       "          3.10216155e-02, -6.87442869e-02,  4.37828898e-03,  4.65220772e-02,\n",
       "         -1.76801588e-02, -1.65566485e-02, -1.59329595e-03, -3.35005857e-02,\n",
       "         -6.30252354e-04,  1.15079591e-02, -4.03805450e-02,  2.44981125e-02,\n",
       "         -3.46852839e-02, -2.46201362e-02, -2.28846595e-02, -8.72787163e-02,\n",
       "          4.33673803e-03,  2.75825933e-02, -6.30214587e-02,  6.70439228e-02,\n",
       "          2.25120442e-04,  3.80670130e-02, -9.50213056e-03, -1.74111109e-02,\n",
       "         -4.06499617e-02,  1.82927810e-02, -3.24048251e-02, -5.08060353e-03,\n",
       "         -7.21422955e-02,  8.34523817e-04,  2.14742101e-03,  1.28748510e-02,\n",
       "          4.14838344e-02,  1.31704761e-02,  2.82748006e-02,  1.01863761e-02,\n",
       "         -4.29590270e-02, -5.56384586e-02, -1.34923914e-02, -4.79482487e-02,\n",
       "         -1.36455083e-02,  3.19261253e-02,  2.82391142e-02, -3.25144604e-02,\n",
       "         -3.12873349e-02,  5.99313937e-02, -2.47681364e-02,  2.70109531e-02,\n",
       "         -2.77648913e-03, -1.03048487e-02, -9.55391005e-02, -9.78476088e-03,\n",
       "          6.01141341e-03,  6.97742682e-03,  3.11982306e-03,  5.14108129e-02,\n",
       "          4.04566042e-02, -1.59258898e-02,  5.25859743e-02, -2.70665940e-02,\n",
       "          1.80119723e-02, -1.24502024e-02,  4.08462249e-02,  3.21447700e-02,\n",
       "         -8.16361792e-03,  3.18751410e-02, -2.48376392e-02,  3.54828909e-02,\n",
       "          6.48713531e-03, -6.42441213e-02,  4.00268547e-02, -2.32095830e-02,\n",
       "         -1.15263024e-02,  1.89094581e-02, -5.53684756e-02,  2.03691181e-02,\n",
       "          3.09162010e-02,  2.12505702e-02,  3.69822197e-02, -6.83244644e-03,\n",
       "          8.76310915e-02,  1.18609844e-03, -3.17369588e-03,  1.01318862e-02,\n",
       "          1.91138685e-02, -3.60607095e-02, -2.79826578e-03,  8.66783038e-03,\n",
       "         -4.16243710e-02, -2.69953646e-02,  3.20502035e-02, -8.19842890e-03,\n",
       "         -1.34195304e-02,  4.33214381e-02, -6.58463538e-02,  8.27575102e-03,\n",
       "          7.88963493e-03, -2.20957808e-02,  7.09549859e-02, -2.69294567e-02,\n",
       "         -2.68935561e-02,  9.27940980e-02, -7.14749396e-02, -2.45980569e-03,\n",
       "         -8.70312005e-03,  2.31304597e-02,  1.55801885e-02,  1.68348216e-02,\n",
       "          9.42937005e-03, -4.23868969e-02,  7.99833387e-02, -9.57825687e-03,\n",
       "         -5.66624198e-03, -4.57755253e-02,  3.97998095e-03,  1.34649873e-02,\n",
       "          1.99050589e-07,  5.42269787e-03,  2.07469836e-02,  5.50373197e-02,\n",
       "          3.73914689e-02,  6.03802502e-02, -8.24076124e-03,  4.80136313e-02,\n",
       "         -3.08066867e-02,  2.67282333e-02, -2.49144472e-02,  1.96777587e-03,\n",
       "          2.44259015e-02, -4.60212268e-02,  1.91581086e-03,  8.49569496e-03,\n",
       "          1.20861717e-02,  2.82181818e-02,  3.62754054e-02,  1.85270756e-02,\n",
       "          1.96143668e-02, -6.46552145e-02, -2.48505007e-02, -2.84106843e-02,\n",
       "         -5.98819111e-04, -1.91022791e-02, -2.77273282e-02, -4.22474444e-02,\n",
       "          2.08074432e-02, -5.35679888e-03, -3.13234292e-02, -1.29377469e-02,\n",
       "          1.95243657e-02,  4.10909876e-02, -5.17706797e-02, -4.32753079e-02,\n",
       "          2.96900328e-03, -4.23427373e-02,  1.24466503e-02, -5.88822886e-02,\n",
       "         -5.07564936e-03, -2.30482332e-02,  4.03163210e-02, -3.64063196e-02,\n",
       "          4.09402736e-02,  1.03155188e-02,  8.43952745e-02,  4.75325212e-02,\n",
       "         -6.10318482e-02, -1.00992741e-02, -1.70494281e-02, -9.89824440e-03,\n",
       "         -6.10003481e-03,  9.57549026e-04,  4.64098789e-02, -1.02321459e-02,\n",
       "          2.47551538e-02,  1.06606644e-03,  1.43986838e-02,  2.96439938e-02,\n",
       "         -2.05809530e-02, -8.99555534e-02,  7.15155005e-02,  5.76261058e-02,\n",
       "          3.51854600e-02, -3.10856458e-02,  3.05632539e-02, -3.72870602e-02,\n",
       "          1.46097280e-34, -1.29545825e-02,  2.37704404e-02,  1.12597609e-03,\n",
       "          5.23219295e-02, -8.12992730e-05, -3.18261646e-02,  2.24976707e-02,\n",
       "         -4.76526842e-03,  8.70690644e-02, -5.21712750e-02, -3.26921083e-02],\n",
       "        dtype=float32))]"
      ]
     },
     "execution_count": 35,
     "metadata": {},
     "output_type": "execute_result"
    }
   ],
   "source": [
    "scores = [(score, document) for score, document in zip(scores,corpus_embeddings)]\n",
    "scores = sorted(scores, key=lambda x: x[0], reverse=True)\n",
    "scores[:5]"
   ]
  },
  {
   "cell_type": "code",
   "execution_count": 36,
   "id": "170b4941-d28e-4dd5-8f1f-635af5fb5dbe",
   "metadata": {},
   "outputs": [
    {
     "ename": "TypeError",
     "evalue": "sequence item 0: expected str instance, numpy.ndarray found",
     "output_type": "error",
     "traceback": [
      "\u001b[0;31m---------------------------------------------------------------------------\u001b[0m",
      "\u001b[0;31mTypeError\u001b[0m                                 Traceback (most recent call last)",
      "Cell \u001b[0;32mIn[36], line 7\u001b[0m\n\u001b[1;32m      1\u001b[0m SYSTEM_PROMPT \u001b[38;5;241m=\u001b[39m \u001b[38;5;124m\"\"\"\u001b[39m\n\u001b[1;32m      2\u001b[0m \u001b[38;5;124mYou\u001b[39m\u001b[38;5;124m'\u001b[39m\u001b[38;5;124mre an expert BodyBuilding Coach with 20+ years of experience with\u001b[39m\n\u001b[1;32m      3\u001b[0m \u001b[38;5;124mtraining all types of atheletes. You always follow foundational principles when\u001b[39m\n\u001b[1;32m      4\u001b[0m \u001b[38;5;124mdesigning workout plans. Each workout must have 4 exercises at maximum.\u001b[39m\n\u001b[1;32m      5\u001b[0m \u001b[38;5;124m\"\"\"\u001b[39m\n\u001b[0;32m----> 7\u001b[0m exercises_text \u001b[38;5;241m=\u001b[39m \u001b[38;5;124;43m\"\u001b[39;49m\u001b[38;5;130;43;01m\\n\u001b[39;49;00m\u001b[38;5;130;43;01m\\n\u001b[39;49;00m\u001b[38;5;124;43m\"\u001b[39;49m\u001b[38;5;241;43m.\u001b[39;49m\u001b[43mjoin\u001b[49m\u001b[43m(\u001b[49m\u001b[43m[\u001b[49m\u001b[43me\u001b[49m\u001b[43m \u001b[49m\u001b[38;5;28;43;01mfor\u001b[39;49;00m\u001b[43m \u001b[49m\u001b[43m_\u001b[49m\u001b[43m,\u001b[49m\u001b[43m \u001b[49m\u001b[43me\u001b[49m\u001b[43m \u001b[49m\u001b[38;5;129;43;01min\u001b[39;49;00m\u001b[43m \u001b[49m\u001b[43mscores\u001b[49m\u001b[43m[\u001b[49m\u001b[43m:\u001b[49m\u001b[38;5;241;43m10\u001b[39;49m\u001b[43m]\u001b[49m\u001b[43m]\u001b[49m\u001b[43m)\u001b[49m\n\u001b[1;32m      8\u001b[0m prompt_text \u001b[38;5;241m=\u001b[39m prompt_template\u001b[38;5;241m.\u001b[39mformat(exercises_text\u001b[38;5;241m=\u001b[39mexercises_text)\n\u001b[1;32m      9\u001b[0m prompt_text \u001b[38;5;241m=\u001b[39m SYSTEM_PROMPT \u001b[38;5;241m+\u001b[39m prompt_text\n",
      "\u001b[0;31mTypeError\u001b[0m: sequence item 0: expected str instance, numpy.ndarray found"
     ]
    }
   ],
   "source": [
    " \n",
    "SYSTEM_PROMPT = \"\"\"\n",
    "You're an expert BodyBuilding Coach with 20+ years of experience with\n",
    "training all types of atheletes. You always follow foundational principles when\n",
    "designing workout plans. Each workout must have 4 exercises at maximum.\n",
    "\"\"\"\n",
    " \n",
    "exercises_text = \"\\n\\n\".join([e for _, e in scores[:10]])\n",
    "prompt_text = prompt_template.format(exercises_text=exercises_text)\n",
    "prompt_text = SYSTEM_PROMPT + prompt_text\n",
    " \n",
    "messages = [\n",
    "    {\"role\": \"user\", \"content\": prompt_text},\n",
    "]\n",
    "prompt = tokenizer.apply_chat_template(\n",
    "    messages, tokenize=False, add_generation_prompt=True\n",
    ")\n",
    "output = llm(prompt)"
   ]
  },
  {
   "cell_type": "code",
   "execution_count": null,
   "id": "cb025b0a-64ec-444e-a85b-821a4a596175",
   "metadata": {},
   "outputs": [],
   "source": []
  }
 ],
 "metadata": {
  "kernelspec": {
   "display_name": "Python 3 (ipykernel)",
   "language": "python",
   "name": "python3"
  },
  "language_info": {
   "codemirror_mode": {
    "name": "ipython",
    "version": 3
   },
   "file_extension": ".py",
   "mimetype": "text/x-python",
   "name": "python",
   "nbconvert_exporter": "python",
   "pygments_lexer": "ipython3",
   "version": "3.11.7"
  }
 },
 "nbformat": 4,
 "nbformat_minor": 5
}
